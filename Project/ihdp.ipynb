{
 "cells": [
  {
   "cell_type": "markdown",
   "id": "262f004e",
   "metadata": {},
   "source": [
    "## IHDP"
   ]
  },
  {
   "cell_type": "code",
   "execution_count": null,
   "id": "62ff771f",
   "metadata": {},
   "outputs": [],
   "source": [
    "!pip install econml"
   ]
  },
  {
   "cell_type": "code",
   "execution_count": 1,
   "id": "651dba8f",
   "metadata": {},
   "outputs": [],
   "source": [
    "from sklearn.model_selection import train_test_split, cross_val_score # to split the data into train and test datasets \n",
    "from sklearn.preprocessing import StandardScaler # use of StandardScaler to standarise the dataset\n",
    "import numpy as np # library of mathematical operations\n",
    "import pandas as pd  # for data anlysis and manipulation\n",
    "import matplotlib.pyplot as plt # to display charts\n",
    "import seaborn as sns # data visualisation library\n",
    "from econml.metalearners import XLearner\n",
    "from sklearn.model_selection import GridSearchCV\n",
    "from sklearn.ensemble import RandomForestRegressor, RandomForestClassifier"
   ]
  },
  {
   "cell_type": "markdown",
   "id": "70e2ebce",
   "metadata": {},
   "source": [
    "### Loading the dataset"
   ]
  },
  {
   "cell_type": "code",
   "execution_count": 2,
   "id": "15363619",
   "metadata": {
    "scrolled": true
   },
   "outputs": [
    {
     "data": {
      "text/html": [
       "<div>\n",
       "<style scoped>\n",
       "    .dataframe tbody tr th:only-of-type {\n",
       "        vertical-align: middle;\n",
       "    }\n",
       "\n",
       "    .dataframe tbody tr th {\n",
       "        vertical-align: top;\n",
       "    }\n",
       "\n",
       "    .dataframe thead th {\n",
       "        text-align: right;\n",
       "    }\n",
       "</style>\n",
       "<table border=\"1\" class=\"dataframe\">\n",
       "  <thead>\n",
       "    <tr style=\"text-align: right;\">\n",
       "      <th></th>\n",
       "      <th>x1</th>\n",
       "      <th>x2</th>\n",
       "      <th>x3</th>\n",
       "      <th>x4</th>\n",
       "      <th>x5</th>\n",
       "      <th>x6</th>\n",
       "      <th>x7</th>\n",
       "      <th>x8</th>\n",
       "      <th>x9</th>\n",
       "      <th>x10</th>\n",
       "      <th>...</th>\n",
       "      <th>x20</th>\n",
       "      <th>x21</th>\n",
       "      <th>x22</th>\n",
       "      <th>x23</th>\n",
       "      <th>x24</th>\n",
       "      <th>x25</th>\n",
       "      <th>t</th>\n",
       "      <th>yf</th>\n",
       "      <th>ycf</th>\n",
       "      <th>ite</th>\n",
       "    </tr>\n",
       "  </thead>\n",
       "  <tbody>\n",
       "    <tr>\n",
       "      <th>0</th>\n",
       "      <td>1.397395</td>\n",
       "      <td>0.996346</td>\n",
       "      <td>-1.105624</td>\n",
       "      <td>-0.879606</td>\n",
       "      <td>0.308569</td>\n",
       "      <td>-1.023402</td>\n",
       "      <td>1.0</td>\n",
       "      <td>0.0</td>\n",
       "      <td>0.0</td>\n",
       "      <td>0.0</td>\n",
       "      <td>...</td>\n",
       "      <td>0.0</td>\n",
       "      <td>0.0</td>\n",
       "      <td>0.0</td>\n",
       "      <td>0.0</td>\n",
       "      <td>0.0</td>\n",
       "      <td>1.0</td>\n",
       "      <td>1.0</td>\n",
       "      <td>4.771232</td>\n",
       "      <td>-0.298509</td>\n",
       "      <td>4.657928</td>\n",
       "    </tr>\n",
       "    <tr>\n",
       "      <th>1</th>\n",
       "      <td>0.269033</td>\n",
       "      <td>0.196818</td>\n",
       "      <td>0.383828</td>\n",
       "      <td>0.161703</td>\n",
       "      <td>-0.629189</td>\n",
       "      <td>1.460832</td>\n",
       "      <td>1.0</td>\n",
       "      <td>0.0</td>\n",
       "      <td>1.0</td>\n",
       "      <td>0.0</td>\n",
       "      <td>...</td>\n",
       "      <td>0.0</td>\n",
       "      <td>0.0</td>\n",
       "      <td>0.0</td>\n",
       "      <td>0.0</td>\n",
       "      <td>0.0</td>\n",
       "      <td>0.0</td>\n",
       "      <td>0.0</td>\n",
       "      <td>2.956273</td>\n",
       "      <td>5.783770</td>\n",
       "      <td>3.428604</td>\n",
       "    </tr>\n",
       "    <tr>\n",
       "      <th>2</th>\n",
       "      <td>1.051537</td>\n",
       "      <td>1.795874</td>\n",
       "      <td>-1.105624</td>\n",
       "      <td>0.161703</td>\n",
       "      <td>-0.629189</td>\n",
       "      <td>0.963985</td>\n",
       "      <td>1.0</td>\n",
       "      <td>0.0</td>\n",
       "      <td>1.0</td>\n",
       "      <td>1.0</td>\n",
       "      <td>...</td>\n",
       "      <td>0.0</td>\n",
       "      <td>0.0</td>\n",
       "      <td>0.0</td>\n",
       "      <td>0.0</td>\n",
       "      <td>0.0</td>\n",
       "      <td>1.0</td>\n",
       "      <td>0.0</td>\n",
       "      <td>4.164164</td>\n",
       "      <td>7.055789</td>\n",
       "      <td>3.658195</td>\n",
       "    </tr>\n",
       "    <tr>\n",
       "      <th>3</th>\n",
       "      <td>0.662446</td>\n",
       "      <td>0.196818</td>\n",
       "      <td>-0.733261</td>\n",
       "      <td>-0.879606</td>\n",
       "      <td>0.371086</td>\n",
       "      <td>-0.692171</td>\n",
       "      <td>1.0</td>\n",
       "      <td>0.0</td>\n",
       "      <td>0.0</td>\n",
       "      <td>0.0</td>\n",
       "      <td>...</td>\n",
       "      <td>1.0</td>\n",
       "      <td>0.0</td>\n",
       "      <td>0.0</td>\n",
       "      <td>0.0</td>\n",
       "      <td>0.0</td>\n",
       "      <td>0.0</td>\n",
       "      <td>1.0</td>\n",
       "      <td>6.172307</td>\n",
       "      <td>1.379697</td>\n",
       "      <td>4.585505</td>\n",
       "    </tr>\n",
       "    <tr>\n",
       "      <th>4</th>\n",
       "      <td>0.856992</td>\n",
       "      <td>1.795874</td>\n",
       "      <td>0.011465</td>\n",
       "      <td>-0.879606</td>\n",
       "      <td>0.558638</td>\n",
       "      <td>0.301522</td>\n",
       "      <td>0.0</td>\n",
       "      <td>1.0</td>\n",
       "      <td>1.0</td>\n",
       "      <td>0.0</td>\n",
       "      <td>...</td>\n",
       "      <td>0.0</td>\n",
       "      <td>0.0</td>\n",
       "      <td>0.0</td>\n",
       "      <td>0.0</td>\n",
       "      <td>0.0</td>\n",
       "      <td>0.0</td>\n",
       "      <td>1.0</td>\n",
       "      <td>7.834469</td>\n",
       "      <td>2.747986</td>\n",
       "      <td>4.265591</td>\n",
       "    </tr>\n",
       "    <tr>\n",
       "      <th>...</th>\n",
       "      <td>...</td>\n",
       "      <td>...</td>\n",
       "      <td>...</td>\n",
       "      <td>...</td>\n",
       "      <td>...</td>\n",
       "      <td>...</td>\n",
       "      <td>...</td>\n",
       "      <td>...</td>\n",
       "      <td>...</td>\n",
       "      <td>...</td>\n",
       "      <td>...</td>\n",
       "      <td>...</td>\n",
       "      <td>...</td>\n",
       "      <td>...</td>\n",
       "      <td>...</td>\n",
       "      <td>...</td>\n",
       "      <td>...</td>\n",
       "      <td>...</td>\n",
       "      <td>...</td>\n",
       "      <td>...</td>\n",
       "      <td>...</td>\n",
       "    </tr>\n",
       "    <tr>\n",
       "      <th>742</th>\n",
       "      <td>-1.853672</td>\n",
       "      <td>-2.201766</td>\n",
       "      <td>1.500917</td>\n",
       "      <td>0.161703</td>\n",
       "      <td>-0.129052</td>\n",
       "      <td>-1.023402</td>\n",
       "      <td>1.0</td>\n",
       "      <td>0.0</td>\n",
       "      <td>0.0</td>\n",
       "      <td>1.0</td>\n",
       "      <td>...</td>\n",
       "      <td>0.0</td>\n",
       "      <td>0.0</td>\n",
       "      <td>0.0</td>\n",
       "      <td>1.0</td>\n",
       "      <td>0.0</td>\n",
       "      <td>0.0</td>\n",
       "      <td>0.0</td>\n",
       "      <td>2.244050</td>\n",
       "      <td>5.269701</td>\n",
       "      <td>4.598246</td>\n",
       "    </tr>\n",
       "    <tr>\n",
       "      <th>743</th>\n",
       "      <td>-1.066845</td>\n",
       "      <td>-1.402238</td>\n",
       "      <td>1.128554</td>\n",
       "      <td>2.244320</td>\n",
       "      <td>0.371086</td>\n",
       "      <td>2.288910</td>\n",
       "      <td>0.0</td>\n",
       "      <td>0.0</td>\n",
       "      <td>1.0</td>\n",
       "      <td>0.0</td>\n",
       "      <td>...</td>\n",
       "      <td>1.0</td>\n",
       "      <td>0.0</td>\n",
       "      <td>0.0</td>\n",
       "      <td>0.0</td>\n",
       "      <td>0.0</td>\n",
       "      <td>0.0</td>\n",
       "      <td>0.0</td>\n",
       "      <td>6.253175</td>\n",
       "      <td>8.393338</td>\n",
       "      <td>0.940855</td>\n",
       "    </tr>\n",
       "    <tr>\n",
       "      <th>744</th>\n",
       "      <td>-1.045229</td>\n",
       "      <td>-1.337276</td>\n",
       "      <td>1.128554</td>\n",
       "      <td>-0.879606</td>\n",
       "      <td>0.683672</td>\n",
       "      <td>0.301522</td>\n",
       "      <td>1.0</td>\n",
       "      <td>0.0</td>\n",
       "      <td>1.0</td>\n",
       "      <td>0.0</td>\n",
       "      <td>...</td>\n",
       "      <td>0.0</td>\n",
       "      <td>0.0</td>\n",
       "      <td>0.0</td>\n",
       "      <td>0.0</td>\n",
       "      <td>0.0</td>\n",
       "      <td>0.0</td>\n",
       "      <td>0.0</td>\n",
       "      <td>2.908235</td>\n",
       "      <td>6.897207</td>\n",
       "      <td>4.373736</td>\n",
       "    </tr>\n",
       "    <tr>\n",
       "      <th>745</th>\n",
       "      <td>-0.115735</td>\n",
       "      <td>-0.602710</td>\n",
       "      <td>-1.105624</td>\n",
       "      <td>2.244320</td>\n",
       "      <td>0.558638</td>\n",
       "      <td>2.785756</td>\n",
       "      <td>1.0</td>\n",
       "      <td>0.0</td>\n",
       "      <td>1.0</td>\n",
       "      <td>0.0</td>\n",
       "      <td>...</td>\n",
       "      <td>0.0</td>\n",
       "      <td>0.0</td>\n",
       "      <td>0.0</td>\n",
       "      <td>1.0</td>\n",
       "      <td>0.0</td>\n",
       "      <td>0.0</td>\n",
       "      <td>0.0</td>\n",
       "      <td>8.324520</td>\n",
       "      <td>9.208251</td>\n",
       "      <td>0.352653</td>\n",
       "    </tr>\n",
       "    <tr>\n",
       "      <th>746</th>\n",
       "      <td>1.419011</td>\n",
       "      <td>1.396110</td>\n",
       "      <td>-0.733261</td>\n",
       "      <td>2.244320</td>\n",
       "      <td>-0.441638</td>\n",
       "      <td>-0.195324</td>\n",
       "      <td>0.0</td>\n",
       "      <td>1.0</td>\n",
       "      <td>1.0</td>\n",
       "      <td>0.0</td>\n",
       "      <td>...</td>\n",
       "      <td>0.0</td>\n",
       "      <td>0.0</td>\n",
       "      <td>0.0</td>\n",
       "      <td>0.0</td>\n",
       "      <td>0.0</td>\n",
       "      <td>1.0</td>\n",
       "      <td>0.0</td>\n",
       "      <td>1.915644</td>\n",
       "      <td>6.298299</td>\n",
       "      <td>4.115977</td>\n",
       "    </tr>\n",
       "  </tbody>\n",
       "</table>\n",
       "<p>747 rows × 29 columns</p>\n",
       "</div>"
      ],
      "text/plain": [
       "           x1        x2        x3        x4        x5        x6   x7   x8  \\\n",
       "0    1.397395  0.996346 -1.105624 -0.879606  0.308569 -1.023402  1.0  0.0   \n",
       "1    0.269033  0.196818  0.383828  0.161703 -0.629189  1.460832  1.0  0.0   \n",
       "2    1.051537  1.795874 -1.105624  0.161703 -0.629189  0.963985  1.0  0.0   \n",
       "3    0.662446  0.196818 -0.733261 -0.879606  0.371086 -0.692171  1.0  0.0   \n",
       "4    0.856992  1.795874  0.011465 -0.879606  0.558638  0.301522  0.0  1.0   \n",
       "..        ...       ...       ...       ...       ...       ...  ...  ...   \n",
       "742 -1.853672 -2.201766  1.500917  0.161703 -0.129052 -1.023402  1.0  0.0   \n",
       "743 -1.066845 -1.402238  1.128554  2.244320  0.371086  2.288910  0.0  0.0   \n",
       "744 -1.045229 -1.337276  1.128554 -0.879606  0.683672  0.301522  1.0  0.0   \n",
       "745 -0.115735 -0.602710 -1.105624  2.244320  0.558638  2.785756  1.0  0.0   \n",
       "746  1.419011  1.396110 -0.733261  2.244320 -0.441638 -0.195324  0.0  1.0   \n",
       "\n",
       "      x9  x10  ...  x20  x21  x22  x23  x24  x25    t        yf       ycf  \\\n",
       "0    0.0  0.0  ...  0.0  0.0  0.0  0.0  0.0  1.0  1.0  4.771232 -0.298509   \n",
       "1    1.0  0.0  ...  0.0  0.0  0.0  0.0  0.0  0.0  0.0  2.956273  5.783770   \n",
       "2    1.0  1.0  ...  0.0  0.0  0.0  0.0  0.0  1.0  0.0  4.164164  7.055789   \n",
       "3    0.0  0.0  ...  1.0  0.0  0.0  0.0  0.0  0.0  1.0  6.172307  1.379697   \n",
       "4    1.0  0.0  ...  0.0  0.0  0.0  0.0  0.0  0.0  1.0  7.834469  2.747986   \n",
       "..   ...  ...  ...  ...  ...  ...  ...  ...  ...  ...       ...       ...   \n",
       "742  0.0  1.0  ...  0.0  0.0  0.0  1.0  0.0  0.0  0.0  2.244050  5.269701   \n",
       "743  1.0  0.0  ...  1.0  0.0  0.0  0.0  0.0  0.0  0.0  6.253175  8.393338   \n",
       "744  1.0  0.0  ...  0.0  0.0  0.0  0.0  0.0  0.0  0.0  2.908235  6.897207   \n",
       "745  1.0  0.0  ...  0.0  0.0  0.0  1.0  0.0  0.0  0.0  8.324520  9.208251   \n",
       "746  1.0  0.0  ...  0.0  0.0  0.0  0.0  0.0  1.0  0.0  1.915644  6.298299   \n",
       "\n",
       "          ite  \n",
       "0    4.657928  \n",
       "1    3.428604  \n",
       "2    3.658195  \n",
       "3    4.585505  \n",
       "4    4.265591  \n",
       "..        ...  \n",
       "742  4.598246  \n",
       "743  0.940855  \n",
       "744  4.373736  \n",
       "745  0.352653  \n",
       "746  4.115977  \n",
       "\n",
       "[747 rows x 29 columns]"
      ]
     },
     "execution_count": 2,
     "metadata": {},
     "output_type": "execute_result"
    }
   ],
   "source": [
    "ihdp = pd.read_csv(\"https://raw.githubusercontent.com/dmachlanski/CE888_2022/main/project/data/ihdp.csv\", delimiter=\",\")\n",
    "ihdp"
   ]
  },
  {
   "cell_type": "markdown",
   "id": "3ca53228",
   "metadata": {},
   "source": [
    "### Exploring the dataset"
   ]
  },
  {
   "cell_type": "code",
   "execution_count": null,
   "id": "64c9d4da",
   "metadata": {
    "scrolled": false
   },
   "outputs": [],
   "source": [
    "ihdp.info()"
   ]
  },
  {
   "cell_type": "code",
   "execution_count": null,
   "id": "a5e2b2fa",
   "metadata": {},
   "outputs": [],
   "source": [
    "nrow, ncol = ihdp.shape\n",
    "print(f'There are {nrow} rows and {ncol} columns')"
   ]
  },
  {
   "cell_type": "code",
   "execution_count": 43,
   "id": "eab1ddd4",
   "metadata": {},
   "outputs": [],
   "source": [
    "X = ihdp[[\"x1\", 'x2', 'x3', 'x4', 'x5', 'x6', 'x7', 'x8', 'x9', 'x10',\n",
    "         'x11', 'x12', 'x13', 'x14', 'x15', 'x16', 'x17', 'x18', \n",
    "         'x19', 'x20', 'x21', 'x22', 'x23', 'x24', 'x25' ]].copy()"
   ]
  },
  {
   "cell_type": "code",
   "execution_count": null,
   "id": "a02920c4",
   "metadata": {},
   "outputs": [],
   "source": [
    "# reshaping the single dimension vectors into 2D vectors as some methods prefer this representaion of data\n",
    "T = ihdp['t'].values.reshape(-1, 1)\n",
    "Y = ihdp['yf'].values.reshape(-1, 1)\n",
    "ite = ihdp['ite']"
   ]
  },
  {
   "cell_type": "code",
   "execution_count": null,
   "id": "591f5afd",
   "metadata": {
    "scrolled": true
   },
   "outputs": [],
   "source": [
    "# to plot a boxplot of each feature in the dataset and check if the features vary in scale\n",
    "plt.figure(figsize=(30,15))\n",
    "sns.boxplot(data = X)"
   ]
  },
  {
   "cell_type": "code",
   "execution_count": null,
   "id": "b6ae0bf1",
   "metadata": {},
   "outputs": [],
   "source": [
    "plt.savefig(\"ihdp_boxplot.pdf\")"
   ]
  },
  {
   "cell_type": "code",
   "execution_count": null,
   "id": "0b4b84a0",
   "metadata": {
    "scrolled": false
   },
   "outputs": [],
   "source": [
    "# to draw histogram and look at the distribution of values of each feature\n",
    "ihdp.hist(bins=50, figsize=(20,20))"
   ]
  },
  {
   "cell_type": "code",
   "execution_count": null,
   "id": "7e30d8a4",
   "metadata": {},
   "outputs": [],
   "source": [
    "plt.savefig(\"ihdp_histogram.pdf\")"
   ]
  },
  {
   "cell_type": "code",
   "execution_count": null,
   "id": "a4ff3a88",
   "metadata": {},
   "outputs": [],
   "source": [
    "# to plot scatterplot across all the features\n",
    "sns.pairplot(X)"
   ]
  },
  {
   "cell_type": "code",
   "execution_count": null,
   "id": "8e345bef",
   "metadata": {},
   "outputs": [],
   "source": [
    "plt.savefig(\"ihdp_scatterplot.pdf\")"
   ]
  },
  {
   "cell_type": "code",
   "execution_count": null,
   "id": "c93b0d52",
   "metadata": {
    "scrolled": true
   },
   "outputs": [],
   "source": [
    "# to calculate the correlations between each pair of variables\n",
    "cor = X.corr()\n",
    "\n",
    "# to plot a heatmap of the correlations between pairs of features\n",
    "sns.set(rc = {'figure.figsize':(20,15)})\n",
    "sns.heatmap(cor, annot = True)"
   ]
  },
  {
   "cell_type": "code",
   "execution_count": null,
   "id": "780f7219",
   "metadata": {},
   "outputs": [],
   "source": [
    "plt.savefig(\"ihdp_heatmap.pdf\")"
   ]
  },
  {
   "cell_type": "markdown",
   "id": "a45b358f",
   "metadata": {},
   "source": [
    "### Data pre-processing"
   ]
  },
  {
   "cell_type": "code",
   "execution_count": 3,
   "id": "23ef93d3",
   "metadata": {
    "scrolled": true
   },
   "outputs": [
    {
     "name": "stdout",
     "output_type": "stream",
     "text": [
      "597 150\n"
     ]
    }
   ],
   "source": [
    "# to split the data into train and test datasets\n",
    "train_set, test_set = train_test_split(ihdp, test_size=0.2, random_state=50)  \n",
    "print(len(train_set), len(test_set))"
   ]
  },
  {
   "cell_type": "code",
   "execution_count": 4,
   "id": "700224e9",
   "metadata": {},
   "outputs": [],
   "source": [
    "x_train = train_set[['x1', 'x2', 'x3', 'x4', 'x5', 'x6', 'x7', 'x8', 'x9', 'x10',\n",
    "         'x11', 'x12', 'x13', 'x14', 'x15', 'x16', 'x17', 'x18', \n",
    "         'x19', 'x20', 'x21', 'x22', 'x23', 'x24', 'x25']].copy()\n",
    "x_test = test_set[['x1', 'x2', 'x3', 'x4', 'x5', 'x6', 'x7', 'x8', 'x9', 'x10',\n",
    "         'x11', 'x12', 'x13', 'x14', 'x15', 'x16', 'x17', 'x18', \n",
    "         'x19', 'x20', 'x21', 'x22', 'x23', 'x24', 'x25']].copy()"
   ]
  },
  {
   "cell_type": "code",
   "execution_count": 5,
   "id": "0257441b",
   "metadata": {
    "scrolled": true
   },
   "outputs": [],
   "source": [
    "y_train = train_set['yf'].copy()\n",
    "y_test = test_set['yf'].copy()"
   ]
  },
  {
   "cell_type": "code",
   "execution_count": 6,
   "id": "bc797077",
   "metadata": {
    "scrolled": true
   },
   "outputs": [],
   "source": [
    "t_train = train_set['t'].copy()\n",
    "t_test = test_set['t'].copy()"
   ]
  },
  {
   "cell_type": "code",
   "execution_count": 7,
   "id": "e16a4f51",
   "metadata": {},
   "outputs": [],
   "source": [
    "ite_train = train_set['ite'].copy()\n",
    "ite_test = test_set['ite'].copy()"
   ]
  },
  {
   "cell_type": "code",
   "execution_count": 8,
   "id": "09839423",
   "metadata": {},
   "outputs": [],
   "source": [
    "scaler_x = StandardScaler() # to standarise the dataset i.e. mean = 0 and s.d. = 1\n",
    "x_train = scaler_x.fit_transform(x_train)\n",
    "x_test = scaler_x.transform(x_test)"
   ]
  },
  {
   "cell_type": "code",
   "execution_count": 9,
   "id": "a0168d3e",
   "metadata": {},
   "outputs": [],
   "source": [
    "x_train = pd.DataFrame(x_train)\n",
    "t_train = pd.DataFrame(t_train)"
   ]
  },
  {
   "cell_type": "code",
   "execution_count": 24,
   "id": "b53627a5",
   "metadata": {},
   "outputs": [],
   "source": [
    "x_test = pd.DataFrame(x_test)\n",
    "t_test = pd.DataFrame(t_test)"
   ]
  },
  {
   "cell_type": "markdown",
   "id": "478b94f4",
   "metadata": {},
   "source": [
    "### Modelling"
   ]
  },
  {
   "cell_type": "markdown",
   "id": "0b17a88c",
   "metadata": {},
   "source": [
    "## 3"
   ]
  },
  {
   "cell_type": "code",
   "execution_count": 10,
   "id": "95c66d98",
   "metadata": {},
   "outputs": [],
   "source": [
    "clf = RandomForestRegressor()"
   ]
  },
  {
   "cell_type": "code",
   "execution_count": 11,
   "id": "77aad123",
   "metadata": {},
   "outputs": [
    {
     "name": "stdout",
     "output_type": "stream",
     "text": [
      "Negative mean squared error: -3.53 +/- 0.90\n"
     ]
    }
   ],
   "source": [
    "scores = cross_val_score(clf, x_train, y_train, cv=10, scoring = \"neg_mean_squared_error\")\n",
    "print(\"Negative mean squared error: %.2f +/- %.2f\" % (scores.mean(), scores.std()))"
   ]
  },
  {
   "cell_type": "code",
   "execution_count": 98,
   "id": "bf35ed85",
   "metadata": {},
   "outputs": [],
   "source": [
    "param_grid = { \n",
    "    'n_estimators': [25,50,100,150],\n",
    "    'max_depth' : [3,4,5,6,7,8],\n",
    "}"
   ]
  },
  {
   "cell_type": "code",
   "execution_count": 13,
   "id": "dbe36280",
   "metadata": {},
   "outputs": [
    {
     "data": {
      "text/plain": [
       "GridSearchCV(cv=10, estimator=RandomForestRegressor(max_depth=3),\n",
       "             param_grid={'max_depth': [3, 4, 5, 6, 7, 8],\n",
       "                         'n_estimators': [25, 50, 100, 150]})"
      ]
     },
     "execution_count": 13,
     "metadata": {},
     "output_type": "execute_result"
    }
   ],
   "source": [
    "CV_clf = GridSearchCV(estimator=clf, param_grid=param_grid, cv= 10)\n",
    "CV_clf.fit(x_train, y_train)"
   ]
  },
  {
   "cell_type": "code",
   "execution_count": 14,
   "id": "f3ca3ad0",
   "metadata": {},
   "outputs": [
    {
     "data": {
      "text/plain": [
       "{'max_depth': 6, 'n_estimators': 100}"
      ]
     },
     "execution_count": 14,
     "metadata": {},
     "output_type": "execute_result"
    }
   ],
   "source": [
    "CV_clf.best_params_"
   ]
  },
  {
   "cell_type": "code",
   "execution_count": 16,
   "id": "5eddff8f",
   "metadata": {},
   "outputs": [],
   "source": [
    "simple_reg = RandomForestRegressor(n_estimators = 100, max_depth = 6)"
   ]
  },
  {
   "cell_type": "code",
   "execution_count": 18,
   "id": "c031c8ec",
   "metadata": {},
   "outputs": [
    {
     "data": {
      "text/plain": [
       "RandomForestRegressor(max_depth=6)"
      ]
     },
     "execution_count": 18,
     "metadata": {},
     "output_type": "execute_result"
    }
   ],
   "source": [
    "# Train on the training data.\n",
    "# In the supervised setting, our usual X here consists of X and T.\n",
    "# The target is Y - the outcome.\n",
    "# Input: [X, T], output: Y.\n",
    "# Hint: use np.concatenate or np.hstack functions to merge X and T.\n",
    "\n",
    "xt_train = np.concatenate([x_train, t_train], axis=1)\n",
    "simple_reg.fit(xt_train, y_train)"
   ]
  },
  {
   "cell_type": "code",
   "execution_count": 19,
   "id": "e92260a2",
   "metadata": {},
   "outputs": [
    {
     "name": "stdout",
     "output_type": "stream",
     "text": [
      "Negative mean squared error: -1.18 +/- 0.24\n"
     ]
    }
   ],
   "source": [
    "scores = cross_val_score(simple_reg, xt_train, y_train, cv = 10, scoring = \"neg_mean_squared_error\")\n",
    "print(\"Negative mean squared error: %.2f +/- %.2f\" % (scores.mean(), scores.std()))"
   ]
  },
  {
   "cell_type": "code",
   "execution_count": null,
   "id": "602c819b",
   "metadata": {},
   "outputs": [],
   "source": [
    "# Predictions\n",
    "# Note we set T to a specific value for ALL individuals.\n",
    "# These are interventional distributions - P(Y|X, do(T=t)).\n"
   ]
  },
  {
   "cell_type": "code",
   "execution_count": 26,
   "id": "25a80bef",
   "metadata": {},
   "outputs": [],
   "source": [
    "# Predict Y_0 given [X, 0]\n",
    "# Hint: use np.zeros_like or np.zeros functions to get the zeros for all units.\n",
    "# Hint 2: you still have to merge X and zeros (see training above).\n",
    "xt0_test = np.concatenate([x_test, np.zeros_like(t_test)], axis=1)\n",
    "simple_reg_y0_test = simple_reg.predict(xt0_test)"
   ]
  },
  {
   "cell_type": "code",
   "execution_count": 27,
   "id": "c46f5b37",
   "metadata": {},
   "outputs": [],
   "source": [
    "# Predict Y_1 given [X, 1]\n",
    "# Hint: use np.ones_like or np.ones functions to get the ones for all units.\n",
    "# Hint 2: you still have to merge X and ones (see training above).\n",
    "xt1_test = np.concatenate([x_test, np.ones_like(t_test)], axis=1)\n",
    "simple_reg_y1_test = simple_reg.predict(xt1_test)"
   ]
  },
  {
   "cell_type": "code",
   "execution_count": 130,
   "id": "eaab4d63",
   "metadata": {},
   "outputs": [],
   "source": [
    "# Compute ITEs\n",
    "# ITE = Y_1 - Y_0\n",
    "simple_reg_te_test = simple_reg_y1_test - simple_reg_y0_test"
   ]
  },
  {
   "cell_type": "code",
   "execution_count": 131,
   "id": "d8263d13",
   "metadata": {},
   "outputs": [],
   "source": [
    "def pehe(effect_true, effect_pred):\n",
    "    return np.sqrt(np.mean((effect_pred - effect_true)**2))"
   ]
  },
  {
   "cell_type": "code",
   "execution_count": 132,
   "id": "0928ab6a",
   "metadata": {},
   "outputs": [],
   "source": [
    "# Error on ATE\n",
    "# Use our 'abs_ate' function, true ITEs and predicted ITEs to get the measurements.\n",
    "# ate_test = abs_ate(ite_test, simple_reg_te_test)\n",
    "\n",
    "# PEHE\n",
    "# Use our 'pehe' function, true ITEs and predicted ITEs to get the measurements.\n",
    "pehe_test = pehe(ite_test, simple_reg_te_test)"
   ]
  },
  {
   "cell_type": "code",
   "execution_count": 134,
   "id": "29c3d5f9",
   "metadata": {},
   "outputs": [
    {
     "data": {
      "text/html": [
       "<div>\n",
       "<style scoped>\n",
       "    .dataframe tbody tr th:only-of-type {\n",
       "        vertical-align: middle;\n",
       "    }\n",
       "\n",
       "    .dataframe tbody tr th {\n",
       "        vertical-align: top;\n",
       "    }\n",
       "\n",
       "    .dataframe thead th {\n",
       "        text-align: right;\n",
       "    }\n",
       "</style>\n",
       "<table border=\"1\" class=\"dataframe\">\n",
       "  <thead>\n",
       "    <tr style=\"text-align: right;\">\n",
       "      <th></th>\n",
       "      <th>Method</th>\n",
       "      <th>PEHE test</th>\n",
       "    </tr>\n",
       "  </thead>\n",
       "  <tbody>\n",
       "    <tr>\n",
       "      <th>0</th>\n",
       "      <td>Simple Learner</td>\n",
       "      <td>0.517824</td>\n",
       "    </tr>\n",
       "  </tbody>\n",
       "</table>\n",
       "</div>"
      ],
      "text/plain": [
       "           Method  PEHE test\n",
       "0  Simple Learner   0.517824"
      ]
     },
     "execution_count": 134,
     "metadata": {},
     "output_type": "execute_result"
    }
   ],
   "source": [
    "results = []\n",
    "results.append(['Simple Learner', pehe_test])\n",
    "\n",
    "cols = ['Method', 'PEHE test']\n",
    "\n",
    "df = pd.DataFrame(results, columns=cols)\n",
    "df"
   ]
  },
  {
   "cell_type": "code",
   "execution_count": 34,
   "id": "74431ff3",
   "metadata": {},
   "outputs": [
    {
     "name": "stdout",
     "output_type": "stream",
     "text": [
      "[25  5 14  0  3  4  2  1 11 12 23  6 24  8 10 13  7 16 17 15 20 19  9 18\n",
      " 21 22]\n"
     ]
    }
   ],
   "source": [
    "# Let's see the feature importances for our classifier\n",
    "importances = simple_reg.feature_importances_\n",
    "std = np.std([tree.feature_importances_ for tree in simple_reg.estimators_],\n",
    "             axis=0)\n",
    "indices = np.argsort(importances)[::-1]\n",
    "print(indices)\n",
    "# Let's get the attibute names:\n",
    "feat_names = x_train.columns"
   ]
  },
  {
   "cell_type": "code",
   "execution_count": 38,
   "id": "85d77723",
   "metadata": {},
   "outputs": [
    {
     "name": "stdout",
     "output_type": "stream",
     "text": [
      "Feature ranking:\n"
     ]
    },
    {
     "ename": "IndexError",
     "evalue": "index 25 is out of bounds for axis 0 with size 25",
     "output_type": "error",
     "traceback": [
      "\u001b[1;31m---------------------------------------------------------------------------\u001b[0m",
      "\u001b[1;31mIndexError\u001b[0m                                Traceback (most recent call last)",
      "\u001b[1;32m~\\anaconda3\\lib\\site-packages\\pandas\\core\\indexes\\range.py\u001b[0m in \u001b[0;36m__getitem__\u001b[1;34m(self, key)\u001b[0m\n\u001b[0;32m    825\u001b[0m             \u001b[1;32mtry\u001b[0m\u001b[1;33m:\u001b[0m\u001b[1;33m\u001b[0m\u001b[1;33m\u001b[0m\u001b[0m\n\u001b[1;32m--> 826\u001b[1;33m                 \u001b[1;32mreturn\u001b[0m \u001b[0mself\u001b[0m\u001b[1;33m.\u001b[0m\u001b[0m_range\u001b[0m\u001b[1;33m[\u001b[0m\u001b[0mnew_key\u001b[0m\u001b[1;33m]\u001b[0m\u001b[1;33m\u001b[0m\u001b[1;33m\u001b[0m\u001b[0m\n\u001b[0m\u001b[0;32m    827\u001b[0m             \u001b[1;32mexcept\u001b[0m \u001b[0mIndexError\u001b[0m \u001b[1;32mas\u001b[0m \u001b[0merr\u001b[0m\u001b[1;33m:\u001b[0m\u001b[1;33m\u001b[0m\u001b[1;33m\u001b[0m\u001b[0m\n",
      "\u001b[1;31mIndexError\u001b[0m: range object index out of range",
      "\nThe above exception was the direct cause of the following exception:\n",
      "\u001b[1;31mIndexError\u001b[0m                                Traceback (most recent call last)",
      "\u001b[1;32mC:\\Users\\KAKOLI~1\\AppData\\Local\\Temp/ipykernel_9700/1386443024.py\u001b[0m in \u001b[0;36m<module>\u001b[1;34m\u001b[0m\n\u001b[0;32m      2\u001b[0m \u001b[0mprint\u001b[0m\u001b[1;33m(\u001b[0m\u001b[1;34m\"Feature ranking:\"\u001b[0m\u001b[1;33m)\u001b[0m\u001b[1;33m\u001b[0m\u001b[1;33m\u001b[0m\u001b[0m\n\u001b[0;32m      3\u001b[0m \u001b[1;32mfor\u001b[0m \u001b[0mf\u001b[0m \u001b[1;32min\u001b[0m \u001b[0mrange\u001b[0m\u001b[1;33m(\u001b[0m\u001b[0mx_train\u001b[0m\u001b[1;33m.\u001b[0m\u001b[0mshape\u001b[0m\u001b[1;33m[\u001b[0m\u001b[1;36m1\u001b[0m\u001b[1;33m]\u001b[0m\u001b[1;33m)\u001b[0m\u001b[1;33m:\u001b[0m\u001b[1;33m\u001b[0m\u001b[1;33m\u001b[0m\u001b[0m\n\u001b[1;32m----> 4\u001b[1;33m     \u001b[0mprint\u001b[0m\u001b[1;33m(\u001b[0m\u001b[1;34m\"%d. %s (%f)\"\u001b[0m \u001b[1;33m%\u001b[0m \u001b[1;33m(\u001b[0m\u001b[0mf\u001b[0m \u001b[1;33m+\u001b[0m \u001b[1;36m1\u001b[0m\u001b[1;33m,\u001b[0m \u001b[0mfeat_names\u001b[0m\u001b[1;33m[\u001b[0m\u001b[0mindices\u001b[0m\u001b[1;33m[\u001b[0m\u001b[0mf\u001b[0m\u001b[1;33m]\u001b[0m\u001b[1;33m]\u001b[0m\u001b[1;33m,\u001b[0m  \u001b[0mimportances\u001b[0m\u001b[1;33m[\u001b[0m\u001b[0mindices\u001b[0m\u001b[1;33m[\u001b[0m\u001b[0mf\u001b[0m\u001b[1;33m]\u001b[0m\u001b[1;33m]\u001b[0m\u001b[1;33m)\u001b[0m\u001b[1;33m)\u001b[0m\u001b[1;33m\u001b[0m\u001b[1;33m\u001b[0m\u001b[0m\n\u001b[0m",
      "\u001b[1;32m~\\anaconda3\\lib\\site-packages\\pandas\\core\\indexes\\range.py\u001b[0m in \u001b[0;36m__getitem__\u001b[1;34m(self, key)\u001b[0m\n\u001b[0;32m    826\u001b[0m                 \u001b[1;32mreturn\u001b[0m \u001b[0mself\u001b[0m\u001b[1;33m.\u001b[0m\u001b[0m_range\u001b[0m\u001b[1;33m[\u001b[0m\u001b[0mnew_key\u001b[0m\u001b[1;33m]\u001b[0m\u001b[1;33m\u001b[0m\u001b[1;33m\u001b[0m\u001b[0m\n\u001b[0;32m    827\u001b[0m             \u001b[1;32mexcept\u001b[0m \u001b[0mIndexError\u001b[0m \u001b[1;32mas\u001b[0m \u001b[0merr\u001b[0m\u001b[1;33m:\u001b[0m\u001b[1;33m\u001b[0m\u001b[1;33m\u001b[0m\u001b[0m\n\u001b[1;32m--> 828\u001b[1;33m                 raise IndexError(\n\u001b[0m\u001b[0;32m    829\u001b[0m                     \u001b[1;34mf\"index {key} is out of bounds for axis 0 with size {len(self)}\"\u001b[0m\u001b[1;33m\u001b[0m\u001b[1;33m\u001b[0m\u001b[0m\n\u001b[0;32m    830\u001b[0m                 ) from err\n",
      "\u001b[1;31mIndexError\u001b[0m: index 25 is out of bounds for axis 0 with size 25"
     ]
    }
   ],
   "source": [
    "# Print the feature ranking\n",
    "print(\"Feature ranking:\")\n",
    "for f in range(x_train.shape[1]):\n",
    "    print(\"%d. %s (%f)\" % (f + 1, feat_names[indices[f]],  importances[indices[f]]))"
   ]
  },
  {
   "cell_type": "code",
   "execution_count": 45,
   "id": "d68dd9f2",
   "metadata": {
    "scrolled": true
   },
   "outputs": [
    {
     "ename": "ValueError",
     "evalue": "shape mismatch: objects cannot be broadcast to a single shape",
     "output_type": "error",
     "traceback": [
      "\u001b[1;31m---------------------------------------------------------------------------\u001b[0m",
      "\u001b[1;31mValueError\u001b[0m                                Traceback (most recent call last)",
      "\u001b[1;32mC:\\Users\\KAKOLI~1\\AppData\\Local\\Temp/ipykernel_9700/1172461070.py\u001b[0m in \u001b[0;36m<module>\u001b[1;34m\u001b[0m\n\u001b[0;32m      2\u001b[0m \u001b[0mfig\u001b[0m \u001b[1;33m=\u001b[0m \u001b[0mplt\u001b[0m\u001b[1;33m.\u001b[0m\u001b[0mfigure\u001b[0m\u001b[1;33m(\u001b[0m\u001b[1;33m)\u001b[0m\u001b[1;33m\u001b[0m\u001b[1;33m\u001b[0m\u001b[0m\n\u001b[0;32m      3\u001b[0m \u001b[0mplt\u001b[0m\u001b[1;33m.\u001b[0m\u001b[0mtitle\u001b[0m\u001b[1;33m(\u001b[0m\u001b[1;34m\"Feature importances\"\u001b[0m\u001b[1;33m)\u001b[0m\u001b[1;33m\u001b[0m\u001b[1;33m\u001b[0m\u001b[0m\n\u001b[1;32m----> 4\u001b[1;33m \u001b[0mplt\u001b[0m\u001b[1;33m.\u001b[0m\u001b[0mbar\u001b[0m\u001b[1;33m(\u001b[0m\u001b[0mrange\u001b[0m\u001b[1;33m(\u001b[0m\u001b[0mX\u001b[0m\u001b[1;33m.\u001b[0m\u001b[0mshape\u001b[0m\u001b[1;33m[\u001b[0m\u001b[1;36m1\u001b[0m\u001b[1;33m]\u001b[0m\u001b[1;33m)\u001b[0m\u001b[1;33m,\u001b[0m \u001b[0mimportances\u001b[0m\u001b[1;33m[\u001b[0m\u001b[0mindices\u001b[0m\u001b[1;33m]\u001b[0m\u001b[1;33m,\u001b[0m \u001b[0mcolor\u001b[0m\u001b[1;33m=\u001b[0m\u001b[1;34m\"r\"\u001b[0m\u001b[1;33m,\u001b[0m \u001b[0myerr\u001b[0m\u001b[1;33m=\u001b[0m\u001b[0mstd\u001b[0m\u001b[1;33m[\u001b[0m\u001b[0mindices\u001b[0m\u001b[1;33m]\u001b[0m\u001b[1;33m,\u001b[0m \u001b[0malign\u001b[0m\u001b[1;33m=\u001b[0m\u001b[1;34m\"center\"\u001b[0m\u001b[1;33m)\u001b[0m\u001b[1;33m\u001b[0m\u001b[1;33m\u001b[0m\u001b[0m\n\u001b[0m\u001b[0;32m      5\u001b[0m \u001b[0mplt\u001b[0m\u001b[1;33m.\u001b[0m\u001b[0mxticks\u001b[0m\u001b[1;33m(\u001b[0m\u001b[0mrange\u001b[0m\u001b[1;33m(\u001b[0m\u001b[0mX\u001b[0m\u001b[1;33m.\u001b[0m\u001b[0mshape\u001b[0m\u001b[1;33m[\u001b[0m\u001b[1;36m1\u001b[0m\u001b[1;33m]\u001b[0m\u001b[1;33m)\u001b[0m\u001b[1;33m,\u001b[0m \u001b[0mnp\u001b[0m\u001b[1;33m.\u001b[0m\u001b[0marray\u001b[0m\u001b[1;33m(\u001b[0m\u001b[0mfeat_names\u001b[0m\u001b[1;33m)\u001b[0m\u001b[1;33m[\u001b[0m\u001b[0mindices\u001b[0m\u001b[1;33m]\u001b[0m\u001b[1;33m)\u001b[0m\u001b[1;33m\u001b[0m\u001b[1;33m\u001b[0m\u001b[0m\n\u001b[0;32m      6\u001b[0m \u001b[0mplt\u001b[0m\u001b[1;33m.\u001b[0m\u001b[0mxlim\u001b[0m\u001b[1;33m(\u001b[0m\u001b[1;33m[\u001b[0m\u001b[1;33m-\u001b[0m\u001b[1;36m1\u001b[0m\u001b[1;33m,\u001b[0m \u001b[0mX\u001b[0m\u001b[1;33m.\u001b[0m\u001b[0mshape\u001b[0m\u001b[1;33m[\u001b[0m\u001b[1;36m1\u001b[0m\u001b[1;33m]\u001b[0m\u001b[1;33m]\u001b[0m\u001b[1;33m)\u001b[0m\u001b[1;33m\u001b[0m\u001b[1;33m\u001b[0m\u001b[0m\n",
      "\u001b[1;32m~\\anaconda3\\lib\\site-packages\\matplotlib\\pyplot.py\u001b[0m in \u001b[0;36mbar\u001b[1;34m(x, height, width, bottom, align, data, **kwargs)\u001b[0m\n\u001b[0;32m   2649\u001b[0m         \u001b[0mx\u001b[0m\u001b[1;33m,\u001b[0m \u001b[0mheight\u001b[0m\u001b[1;33m,\u001b[0m \u001b[0mwidth\u001b[0m\u001b[1;33m=\u001b[0m\u001b[1;36m0.8\u001b[0m\u001b[1;33m,\u001b[0m \u001b[0mbottom\u001b[0m\u001b[1;33m=\u001b[0m\u001b[1;32mNone\u001b[0m\u001b[1;33m,\u001b[0m \u001b[1;33m*\u001b[0m\u001b[1;33m,\u001b[0m \u001b[0malign\u001b[0m\u001b[1;33m=\u001b[0m\u001b[1;34m'center'\u001b[0m\u001b[1;33m,\u001b[0m\u001b[1;33m\u001b[0m\u001b[1;33m\u001b[0m\u001b[0m\n\u001b[0;32m   2650\u001b[0m         data=None, **kwargs):\n\u001b[1;32m-> 2651\u001b[1;33m     return gca().bar(\n\u001b[0m\u001b[0;32m   2652\u001b[0m         \u001b[0mx\u001b[0m\u001b[1;33m,\u001b[0m \u001b[0mheight\u001b[0m\u001b[1;33m,\u001b[0m \u001b[0mwidth\u001b[0m\u001b[1;33m=\u001b[0m\u001b[0mwidth\u001b[0m\u001b[1;33m,\u001b[0m \u001b[0mbottom\u001b[0m\u001b[1;33m=\u001b[0m\u001b[0mbottom\u001b[0m\u001b[1;33m,\u001b[0m \u001b[0malign\u001b[0m\u001b[1;33m=\u001b[0m\u001b[0malign\u001b[0m\u001b[1;33m,\u001b[0m\u001b[1;33m\u001b[0m\u001b[1;33m\u001b[0m\u001b[0m\n\u001b[0;32m   2653\u001b[0m         **({\"data\": data} if data is not None else {}), **kwargs)\n",
      "\u001b[1;32m~\\anaconda3\\lib\\site-packages\\matplotlib\\__init__.py\u001b[0m in \u001b[0;36minner\u001b[1;34m(ax, data, *args, **kwargs)\u001b[0m\n\u001b[0;32m   1359\u001b[0m     \u001b[1;32mdef\u001b[0m \u001b[0minner\u001b[0m\u001b[1;33m(\u001b[0m\u001b[0max\u001b[0m\u001b[1;33m,\u001b[0m \u001b[1;33m*\u001b[0m\u001b[0margs\u001b[0m\u001b[1;33m,\u001b[0m \u001b[0mdata\u001b[0m\u001b[1;33m=\u001b[0m\u001b[1;32mNone\u001b[0m\u001b[1;33m,\u001b[0m \u001b[1;33m**\u001b[0m\u001b[0mkwargs\u001b[0m\u001b[1;33m)\u001b[0m\u001b[1;33m:\u001b[0m\u001b[1;33m\u001b[0m\u001b[1;33m\u001b[0m\u001b[0m\n\u001b[0;32m   1360\u001b[0m         \u001b[1;32mif\u001b[0m \u001b[0mdata\u001b[0m \u001b[1;32mis\u001b[0m \u001b[1;32mNone\u001b[0m\u001b[1;33m:\u001b[0m\u001b[1;33m\u001b[0m\u001b[1;33m\u001b[0m\u001b[0m\n\u001b[1;32m-> 1361\u001b[1;33m             \u001b[1;32mreturn\u001b[0m \u001b[0mfunc\u001b[0m\u001b[1;33m(\u001b[0m\u001b[0max\u001b[0m\u001b[1;33m,\u001b[0m \u001b[1;33m*\u001b[0m\u001b[0mmap\u001b[0m\u001b[1;33m(\u001b[0m\u001b[0msanitize_sequence\u001b[0m\u001b[1;33m,\u001b[0m \u001b[0margs\u001b[0m\u001b[1;33m)\u001b[0m\u001b[1;33m,\u001b[0m \u001b[1;33m**\u001b[0m\u001b[0mkwargs\u001b[0m\u001b[1;33m)\u001b[0m\u001b[1;33m\u001b[0m\u001b[1;33m\u001b[0m\u001b[0m\n\u001b[0m\u001b[0;32m   1362\u001b[0m \u001b[1;33m\u001b[0m\u001b[0m\n\u001b[0;32m   1363\u001b[0m         \u001b[0mbound\u001b[0m \u001b[1;33m=\u001b[0m \u001b[0mnew_sig\u001b[0m\u001b[1;33m.\u001b[0m\u001b[0mbind\u001b[0m\u001b[1;33m(\u001b[0m\u001b[0max\u001b[0m\u001b[1;33m,\u001b[0m \u001b[1;33m*\u001b[0m\u001b[0margs\u001b[0m\u001b[1;33m,\u001b[0m \u001b[1;33m**\u001b[0m\u001b[0mkwargs\u001b[0m\u001b[1;33m)\u001b[0m\u001b[1;33m\u001b[0m\u001b[1;33m\u001b[0m\u001b[0m\n",
      "\u001b[1;32m~\\anaconda3\\lib\\site-packages\\matplotlib\\axes\\_axes.py\u001b[0m in \u001b[0;36mbar\u001b[1;34m(self, x, height, width, bottom, align, **kwargs)\u001b[0m\n\u001b[0;32m   2302\u001b[0m                 \u001b[0myerr\u001b[0m \u001b[1;33m=\u001b[0m \u001b[0mself\u001b[0m\u001b[1;33m.\u001b[0m\u001b[0m_convert_dx\u001b[0m\u001b[1;33m(\u001b[0m\u001b[0myerr\u001b[0m\u001b[1;33m,\u001b[0m \u001b[0my0\u001b[0m\u001b[1;33m,\u001b[0m \u001b[0my\u001b[0m\u001b[1;33m,\u001b[0m \u001b[0mself\u001b[0m\u001b[1;33m.\u001b[0m\u001b[0mconvert_yunits\u001b[0m\u001b[1;33m)\u001b[0m\u001b[1;33m\u001b[0m\u001b[1;33m\u001b[0m\u001b[0m\n\u001b[0;32m   2303\u001b[0m \u001b[1;33m\u001b[0m\u001b[0m\n\u001b[1;32m-> 2304\u001b[1;33m         x, height, width, y, linewidth, hatch = np.broadcast_arrays(\n\u001b[0m\u001b[0;32m   2305\u001b[0m             \u001b[1;31m# Make args iterable too.\u001b[0m\u001b[1;33m\u001b[0m\u001b[1;33m\u001b[0m\u001b[0m\n\u001b[0;32m   2306\u001b[0m             np.atleast_1d(x), height, width, y, linewidth, hatch)\n",
      "\u001b[1;32m<__array_function__ internals>\u001b[0m in \u001b[0;36mbroadcast_arrays\u001b[1;34m(*args, **kwargs)\u001b[0m\n",
      "\u001b[1;32m~\\anaconda3\\lib\\site-packages\\numpy\\lib\\stride_tricks.py\u001b[0m in \u001b[0;36mbroadcast_arrays\u001b[1;34m(subok, *args)\u001b[0m\n\u001b[0;32m    536\u001b[0m     \u001b[0margs\u001b[0m \u001b[1;33m=\u001b[0m \u001b[1;33m[\u001b[0m\u001b[0mnp\u001b[0m\u001b[1;33m.\u001b[0m\u001b[0marray\u001b[0m\u001b[1;33m(\u001b[0m\u001b[0m_m\u001b[0m\u001b[1;33m,\u001b[0m \u001b[0mcopy\u001b[0m\u001b[1;33m=\u001b[0m\u001b[1;32mFalse\u001b[0m\u001b[1;33m,\u001b[0m \u001b[0msubok\u001b[0m\u001b[1;33m=\u001b[0m\u001b[0msubok\u001b[0m\u001b[1;33m)\u001b[0m \u001b[1;32mfor\u001b[0m \u001b[0m_m\u001b[0m \u001b[1;32min\u001b[0m \u001b[0margs\u001b[0m\u001b[1;33m]\u001b[0m\u001b[1;33m\u001b[0m\u001b[1;33m\u001b[0m\u001b[0m\n\u001b[0;32m    537\u001b[0m \u001b[1;33m\u001b[0m\u001b[0m\n\u001b[1;32m--> 538\u001b[1;33m     \u001b[0mshape\u001b[0m \u001b[1;33m=\u001b[0m \u001b[0m_broadcast_shape\u001b[0m\u001b[1;33m(\u001b[0m\u001b[1;33m*\u001b[0m\u001b[0margs\u001b[0m\u001b[1;33m)\u001b[0m\u001b[1;33m\u001b[0m\u001b[1;33m\u001b[0m\u001b[0m\n\u001b[0m\u001b[0;32m    539\u001b[0m \u001b[1;33m\u001b[0m\u001b[0m\n\u001b[0;32m    540\u001b[0m     \u001b[1;32mif\u001b[0m \u001b[0mall\u001b[0m\u001b[1;33m(\u001b[0m\u001b[0marray\u001b[0m\u001b[1;33m.\u001b[0m\u001b[0mshape\u001b[0m \u001b[1;33m==\u001b[0m \u001b[0mshape\u001b[0m \u001b[1;32mfor\u001b[0m \u001b[0marray\u001b[0m \u001b[1;32min\u001b[0m \u001b[0margs\u001b[0m\u001b[1;33m)\u001b[0m\u001b[1;33m:\u001b[0m\u001b[1;33m\u001b[0m\u001b[1;33m\u001b[0m\u001b[0m\n",
      "\u001b[1;32m~\\anaconda3\\lib\\site-packages\\numpy\\lib\\stride_tricks.py\u001b[0m in \u001b[0;36m_broadcast_shape\u001b[1;34m(*args)\u001b[0m\n\u001b[0;32m    418\u001b[0m     \u001b[1;31m# use the old-iterator because np.nditer does not handle size 0 arrays\u001b[0m\u001b[1;33m\u001b[0m\u001b[1;33m\u001b[0m\u001b[0m\n\u001b[0;32m    419\u001b[0m     \u001b[1;31m# consistently\u001b[0m\u001b[1;33m\u001b[0m\u001b[1;33m\u001b[0m\u001b[0m\n\u001b[1;32m--> 420\u001b[1;33m     \u001b[0mb\u001b[0m \u001b[1;33m=\u001b[0m \u001b[0mnp\u001b[0m\u001b[1;33m.\u001b[0m\u001b[0mbroadcast\u001b[0m\u001b[1;33m(\u001b[0m\u001b[1;33m*\u001b[0m\u001b[0margs\u001b[0m\u001b[1;33m[\u001b[0m\u001b[1;33m:\u001b[0m\u001b[1;36m32\u001b[0m\u001b[1;33m]\u001b[0m\u001b[1;33m)\u001b[0m\u001b[1;33m\u001b[0m\u001b[1;33m\u001b[0m\u001b[0m\n\u001b[0m\u001b[0;32m    421\u001b[0m     \u001b[1;31m# unfortunately, it cannot handle 32 or more arguments directly\u001b[0m\u001b[1;33m\u001b[0m\u001b[1;33m\u001b[0m\u001b[0m\n\u001b[0;32m    422\u001b[0m     \u001b[1;32mfor\u001b[0m \u001b[0mpos\u001b[0m \u001b[1;32min\u001b[0m \u001b[0mrange\u001b[0m\u001b[1;33m(\u001b[0m\u001b[1;36m32\u001b[0m\u001b[1;33m,\u001b[0m \u001b[0mlen\u001b[0m\u001b[1;33m(\u001b[0m\u001b[0margs\u001b[0m\u001b[1;33m)\u001b[0m\u001b[1;33m,\u001b[0m \u001b[1;36m31\u001b[0m\u001b[1;33m)\u001b[0m\u001b[1;33m:\u001b[0m\u001b[1;33m\u001b[0m\u001b[1;33m\u001b[0m\u001b[0m\n",
      "\u001b[1;31mValueError\u001b[0m: shape mismatch: objects cannot be broadcast to a single shape"
     ]
    },
    {
     "data": {
      "image/png": "[encoded data removed]",
      "text/plain": [
       "<Figure size 432x288 with 1 Axes>"
      ]
     },
     "metadata": {
      "needs_background": "light"
     },
     "output_type": "display_data"
    }
   ],
   "source": [
    "# Plot the feature importances of the forest\n",
    "fig = plt.figure()\n",
    "plt.title(\"Feature importances\")\n",
    "plt.bar(range(X.shape[1]), importances[indices], color=\"r\", yerr=std[indices], align=\"center\")\n",
    "plt.xticks(range(X.shape[1]), np.array(feat_names)[indices])\n",
    "plt.xlim([-1, X.shape[1]])\n",
    "plt.ylim([0, None])\n",
    "\n",
    "fig.set_size_inches(15, 8)"
   ]
  },
  {
   "cell_type": "markdown",
   "id": "602fae47",
   "metadata": {},
   "source": [
    "## 4"
   ]
  },
  {
   "cell_type": "code",
   "execution_count": 49,
   "id": "316b6f79",
   "metadata": {},
   "outputs": [],
   "source": [
    "def get_ps_weights(clf, x, t):\n",
    "  ti = np.squeeze(t)\n",
    "  clf.fit(x, ti)\n",
    "  ptx = clf.predict_proba(x).T[1].T + 0.0001 # add a small value to avoid dividing by 0\n",
    "  wi = ti/ptx + 1 - ti/ 1 - ptx\n",
    "  return wi"
   ]
  },
  {
   "cell_type": "code",
   "execution_count": 86,
   "id": "e2860de1",
   "metadata": {},
   "outputs": [
    {
     "name": "stdout",
     "output_type": "stream",
     "text": [
      "accuracy score: 0.81\n"
     ]
    }
   ],
   "source": [
    "prop_clf = RandomForestClassifier()\n",
    "scores = cross_val_score(prop_clf, x_train, t_train['t'], cv=10, scoring = \"accuracy\")\n",
    "print(\"accuracy score: %.2f\" % (scores.mean()))"
   ]
  },
  {
   "cell_type": "code",
   "execution_count": 88,
   "id": "f5dd542e",
   "metadata": {},
   "outputs": [
    {
     "data": {
      "text/plain": [
       "GridSearchCV(cv=10, estimator=RandomForestClassifier(),\n",
       "             param_grid={'max_depth': [4, 5, 6, 7],\n",
       "                         'n_estimators': [25, 50, 100, 150]})"
      ]
     },
     "execution_count": 88,
     "metadata": {},
     "output_type": "execute_result"
    }
   ],
   "source": [
    "CV1_model = GridSearchCV(estimator=prop_clf, param_grid=param_grid, cv= 10)\n",
    "CV1_model.fit(x_train, t_train['t'])"
   ]
  },
  {
   "cell_type": "code",
   "execution_count": 89,
   "id": "d2391766",
   "metadata": {},
   "outputs": [
    {
     "data": {
      "text/plain": [
       "{'max_depth': 4, 'n_estimators': 25}"
      ]
     },
     "execution_count": 89,
     "metadata": {},
     "output_type": "execute_result"
    }
   ],
   "source": [
    "CV1_model.best_params_"
   ]
  },
  {
   "cell_type": "code",
   "execution_count": 92,
   "id": "306880de",
   "metadata": {},
   "outputs": [
    {
     "name": "stdout",
     "output_type": "stream",
     "text": [
      "accuracy score: 0.82\n"
     ]
    }
   ],
   "source": [
    "prop = RandomForestClassifier(n_estimators = 25, max_depth = 4)\n",
    "scores = cross_val_score(prop, x_train, t_train['t'], cv=10, scoring = \"accuracy\")\n",
    "print(\"accuracy score: %.2f\" % (scores.mean()))"
   ]
  },
  {
   "cell_type": "code",
   "execution_count": 93,
   "id": "7b1df97d",
   "metadata": {},
   "outputs": [],
   "source": [
    "# to get the sample weights\n",
    "weights = get_ps_weights(prop, x_train, t_train)"
   ]
  },
  {
   "cell_type": "code",
   "execution_count": 95,
   "id": "0912ca22",
   "metadata": {},
   "outputs": [
    {
     "name": "stdout",
     "output_type": "stream",
     "text": [
      "Negative mean squared error: -3.54 +/- 0.82\n"
     ]
    }
   ],
   "source": [
    "model = RandomForestRegressor()\n",
    "scores = cross_val_score(model, x_train, y_train, cv=10, scoring = \"neg_mean_squared_error\")\n",
    "print(\"Negative mean squared error: %.2f +/- %.2f\" % (scores.mean(), scores.std()))"
   ]
  },
  {
   "cell_type": "code",
   "execution_count": 108,
   "id": "613c193f",
   "metadata": {},
   "outputs": [],
   "source": [
    "param_grid = { \n",
    "    'n_estimators': [25, 50, 100, 150, 200],\n",
    "    'max_depth' : [4, 5, 6, 7, 8, 9, 10, 11, 12],\n",
    "}"
   ]
  },
  {
   "cell_type": "code",
   "execution_count": 109,
   "id": "c36b7452",
   "metadata": {},
   "outputs": [
    {
     "data": {
      "text/plain": [
       "GridSearchCV(cv=10, estimator=RandomForestRegressor(),\n",
       "             param_grid={'max_depth': [4, 5, 6, 7, 8, 9, 10, 11, 12],\n",
       "                         'n_estimators': [25, 50, 100, 150, 200]})"
      ]
     },
     "execution_count": 109,
     "metadata": {},
     "output_type": "execute_result"
    }
   ],
   "source": [
    "CV_model = GridSearchCV(estimator=model, param_grid=param_grid, cv= 10)\n",
    "CV_model.fit(x_train, y_train)"
   ]
  },
  {
   "cell_type": "code",
   "execution_count": 110,
   "id": "e8956444",
   "metadata": {},
   "outputs": [
    {
     "data": {
      "text/plain": [
       "{'max_depth': 5, 'n_estimators': 50}"
      ]
     },
     "execution_count": 110,
     "metadata": {},
     "output_type": "execute_result"
    }
   ],
   "source": [
    "CV_model.best_params_"
   ]
  },
  {
   "cell_type": "code",
   "execution_count": 119,
   "id": "a0f072ed",
   "metadata": {},
   "outputs": [
    {
     "data": {
      "text/plain": [
       "RandomForestRegressor(max_depth=5, n_estimators=50)"
      ]
     },
     "execution_count": 119,
     "metadata": {},
     "output_type": "execute_result"
    }
   ],
   "source": [
    "# to train the regressor\n",
    "ipsw = RandomForestRegressor(n_estimators = 50, max_depth = 5)\n",
    "ipsw.fit(xt_train, y_train, sample_weight= weights)"
   ]
  },
  {
   "cell_type": "code",
   "execution_count": 120,
   "id": "2ac54c14",
   "metadata": {},
   "outputs": [
    {
     "name": "stdout",
     "output_type": "stream",
     "text": [
      "Negative mean squared error: -3.50 +/- 0.86\n"
     ]
    }
   ],
   "source": [
    "scores = cross_val_score(ipsw, x_train, y_train, cv=10, scoring = \"neg_mean_squared_error\")\n",
    "print(\"Negative mean squared error: %.2f +/- %.2f\" % (scores.mean(), scores.std()))"
   ]
  },
  {
   "cell_type": "code",
   "execution_count": 121,
   "id": "21c3ab1d",
   "metadata": {},
   "outputs": [],
   "source": [
    "# Make predictions\n",
    "ipsw_y0_test = ipsw.predict(np.concatenate([x_test, np.zeros_like(t_test)], axis=1))\n",
    "ipsw_y1_test = ipsw.predict(np.concatenate([x_test, np.ones_like(t_test)], axis=1))"
   ]
  },
  {
   "cell_type": "code",
   "execution_count": 122,
   "id": "69448e50",
   "metadata": {},
   "outputs": [],
   "source": [
    "# Compute ITEs\n",
    "ipsw_te_test = ipsw_y1_test - ipsw_y0_test"
   ]
  },
  {
   "cell_type": "code",
   "execution_count": 151,
   "id": "5e33701f",
   "metadata": {},
   "outputs": [],
   "source": [
    "# Error on ATE\n",
    "# Use our 'abs_ate' function, true ITEs and predicted ITEs to get the measurements.\n",
    "# rf_ipsw_ate_test = abs_ate(ite_test, ipsw_te_test)\n",
    "\n",
    "# PEHE\n",
    "# Use our 'pehe' function, true ITEs and predicted ITEs to get the measurements.\n",
    "ipsw_pehe_test = pehe(ite_test, ipsw_te_test)"
   ]
  },
  {
   "cell_type": "code",
   "execution_count": 152,
   "id": "74a9a9f7",
   "metadata": {},
   "outputs": [
    {
     "data": {
      "text/html": [
       "<div>\n",
       "<style scoped>\n",
       "    .dataframe tbody tr th:only-of-type {\n",
       "        vertical-align: middle;\n",
       "    }\n",
       "\n",
       "    .dataframe tbody tr th {\n",
       "        vertical-align: top;\n",
       "    }\n",
       "\n",
       "    .dataframe thead th {\n",
       "        text-align: right;\n",
       "    }\n",
       "</style>\n",
       "<table border=\"1\" class=\"dataframe\">\n",
       "  <thead>\n",
       "    <tr style=\"text-align: right;\">\n",
       "      <th></th>\n",
       "      <th>Method</th>\n",
       "      <th>PEHE test</th>\n",
       "    </tr>\n",
       "  </thead>\n",
       "  <tbody>\n",
       "    <tr>\n",
       "      <th>0</th>\n",
       "      <td>IPSW</td>\n",
       "      <td>0.444116</td>\n",
       "    </tr>\n",
       "  </tbody>\n",
       "</table>\n",
       "</div>"
      ],
      "text/plain": [
       "  Method  PEHE test\n",
       "0   IPSW   0.444116"
      ]
     },
     "execution_count": 152,
     "metadata": {},
     "output_type": "execute_result"
    }
   ],
   "source": [
    "results = []\n",
    "results.append(['IPSW', ipsw_pehe_test])\n",
    "\n",
    "cols = ['Method', 'PEHE test']\n",
    "\n",
    "df = pd.DataFrame(results, columns=cols)\n",
    "df"
   ]
  },
  {
   "cell_type": "code",
   "execution_count": 137,
   "id": "7e7829c8",
   "metadata": {},
   "outputs": [
    {
     "name": "stdout",
     "output_type": "stream",
     "text": [
      "[25  5  0 14  3  4  1  2 10 12  7  8 11 24 23 13  6 18 20 15 16 21 19 17\n",
      "  9 22]\n"
     ]
    }
   ],
   "source": [
    "# Let's see the feature importances for our classifier\n",
    "importances = ipsw.feature_importances_\n",
    "std = np.std([tree.feature_importances_ for tree in ipsw.estimators_],\n",
    "             axis=0)\n",
    "indices = np.argsort(importances)[::-1]\n",
    "print(indices)\n",
    "# Let's get the attibute names:\n",
    "feat_names = x_train.columns"
   ]
  },
  {
   "cell_type": "markdown",
   "id": "f94b9bc8",
   "metadata": {},
   "source": [
    "## 5"
   ]
  },
  {
   "cell_type": "code",
   "execution_count": 138,
   "id": "c5298027",
   "metadata": {},
   "outputs": [],
   "source": [
    "first_stage = lambda: GridSearchCV(\n",
    "                estimator=RandomForestRegressor(),\n",
    "                param_grid={\n",
    "                        'max_depth': [3, 4, 5, 6, 7],\n",
    "                        'n_estimators': (50, 100, 150, 200)\n",
    "                    }, cv=10, n_jobs=-1, scoring='neg_mean_squared_error'\n",
    "                )\n",
    "mod_y = first_stage().fit(x_train, y_train).best_estimator_"
   ]
  },
  {
   "cell_type": "code",
   "execution_count": 140,
   "id": "c9b0e870",
   "metadata": {},
   "outputs": [],
   "source": [
    "first_stage0 = lambda: GridSearchCV(\n",
    "                estimator=RandomForestClassifier(),\n",
    "                param_grid={\n",
    "                        'max_depth': [3, 4, 5, 6, 7],\n",
    "                        'n_estimators': (50, 100, 150, 200)\n",
    "                    }, cv=10, n_jobs=-1, scoring='accuracy'\n",
    "                )\n",
    "mod_y0 = first_stage0().fit(x_train, t_train['t']).best_estimator_"
   ]
  },
  {
   "cell_type": "code",
   "execution_count": 141,
   "id": "71f101db",
   "metadata": {},
   "outputs": [],
   "source": [
    "# Instantiate X learner\n",
    "X_learner = XLearner(models=mod_y, propensity_model=mod_y0)"
   ]
  },
  {
   "cell_type": "code",
   "execution_count": 144,
   "id": "f5ddac28",
   "metadata": {
    "scrolled": false
   },
   "outputs": [
    {
     "name": "stderr",
     "output_type": "stream",
     "text": [
      "Function get_feature_names is deprecated; get_feature_names is deprecated in 1.0 and will be removed in 1.2. Please use get_feature_names_out instead.\n"
     ]
    },
    {
     "data": {
      "text/plain": [
       "<econml.metalearners._metalearners.XLearner at 0x1d18d125d60>"
      ]
     },
     "execution_count": 144,
     "metadata": {},
     "output_type": "execute_result"
    }
   ],
   "source": [
    "# Train X_learner\n",
    "X_learner.fit(y_train, t_train['t'], X=x_train)"
   ]
  },
  {
   "cell_type": "code",
   "execution_count": 145,
   "id": "90620265",
   "metadata": {},
   "outputs": [],
   "source": [
    "# Estimate treatment effects on test data\n",
    "x_estimate = X_learner.effect(x_test)"
   ]
  },
  {
   "cell_type": "code",
   "execution_count": 147,
   "id": "4e2669c2",
   "metadata": {},
   "outputs": [],
   "source": [
    "# Use our 'abs_ate' function, true ITEs and predicted ITEs to get the measurements.\n",
    "# xl_ate_test = abs_ate(ite_test,x_estimate)\n",
    "\n",
    "# Use our 'pehe' function, true ITEs and predicted ITEs to get the measurements.\n",
    "xl_pehe_test = pehe(ite_test,x_estimate)"
   ]
  },
  {
   "cell_type": "code",
   "execution_count": 148,
   "id": "70e41219",
   "metadata": {},
   "outputs": [
    {
     "data": {
      "text/html": [
       "<div>\n",
       "<style scoped>\n",
       "    .dataframe tbody tr th:only-of-type {\n",
       "        vertical-align: middle;\n",
       "    }\n",
       "\n",
       "    .dataframe tbody tr th {\n",
       "        vertical-align: top;\n",
       "    }\n",
       "\n",
       "    .dataframe thead th {\n",
       "        text-align: right;\n",
       "    }\n",
       "</style>\n",
       "<table border=\"1\" class=\"dataframe\">\n",
       "  <thead>\n",
       "    <tr style=\"text-align: right;\">\n",
       "      <th></th>\n",
       "      <th>Method</th>\n",
       "      <th>PEHE test</th>\n",
       "    </tr>\n",
       "  </thead>\n",
       "  <tbody>\n",
       "    <tr>\n",
       "      <th>0</th>\n",
       "      <td>XL</td>\n",
       "      <td>0.347112</td>\n",
       "    </tr>\n",
       "  </tbody>\n",
       "</table>\n",
       "</div>"
      ],
      "text/plain": [
       "  Method  PEHE test\n",
       "0     XL   0.347112"
      ]
     },
     "execution_count": 148,
     "metadata": {},
     "output_type": "execute_result"
    }
   ],
   "source": [
    "results = []\n",
    "results.append(['XL', xl_pehe_test])\n",
    "\n",
    "col = ['Method', 'PEHE test']\n",
    "\n",
    "df = pd.DataFrame(results, columns=col)\n",
    "df"
   ]
  },
  {
   "cell_type": "code",
   "execution_count": 153,
   "id": "d4ec9c8c",
   "metadata": {},
   "outputs": [
    {
     "data": {
      "text/html": [
       "<div>\n",
       "<style scoped>\n",
       "    .dataframe tbody tr th:only-of-type {\n",
       "        vertical-align: middle;\n",
       "    }\n",
       "\n",
       "    .dataframe tbody tr th {\n",
       "        vertical-align: top;\n",
       "    }\n",
       "\n",
       "    .dataframe thead th {\n",
       "        text-align: right;\n",
       "    }\n",
       "</style>\n",
       "<table border=\"1\" class=\"dataframe\">\n",
       "  <thead>\n",
       "    <tr style=\"text-align: right;\">\n",
       "      <th></th>\n",
       "      <th>Method</th>\n",
       "      <th>PEHE test</th>\n",
       "    </tr>\n",
       "  </thead>\n",
       "  <tbody>\n",
       "    <tr>\n",
       "      <th>0</th>\n",
       "      <td>Simple Learner</td>\n",
       "      <td>0.517824</td>\n",
       "    </tr>\n",
       "    <tr>\n",
       "      <th>1</th>\n",
       "      <td>IPW</td>\n",
       "      <td>0.444116</td>\n",
       "    </tr>\n",
       "    <tr>\n",
       "      <th>2</th>\n",
       "      <td>XL</td>\n",
       "      <td>0.347112</td>\n",
       "    </tr>\n",
       "  </tbody>\n",
       "</table>\n",
       "</div>"
      ],
      "text/plain": [
       "           Method  PEHE test\n",
       "0  Simple Learner   0.517824\n",
       "1             IPW   0.444116\n",
       "2              XL   0.347112"
      ]
     },
     "execution_count": 153,
     "metadata": {},
     "output_type": "execute_result"
    }
   ],
   "source": [
    "results = []\n",
    "results.append(['Simple Learner', pehe_test])\n",
    "results.append(['IPW', ipsw_pehe_test])\n",
    "results.append(['XL', xl_pehe_test])\n",
    "\n",
    "cols = ['Method', 'PEHE test']\n",
    "\n",
    "df = pd.DataFrame(results, columns=cols)\n",
    "df"
   ]
  }
 ],
 "metadata": {
  "kernelspec": {
   "display_name": "Python 3 (ipykernel)",
   "language": "python",
   "name": "python3"
  },
  "language_info": {
   "codemirror_mode": {
    "name": "ipython",
    "version": 3
   },
   "file_extension": ".py",
   "mimetype": "text/x-python",
   "name": "python",
   "nbconvert_exporter": "python",
   "pygments_lexer": "ipython3",
   "version": "3.9.7"
  }
 },
 "nbformat": 4,
 "nbformat_minor": 5
}
