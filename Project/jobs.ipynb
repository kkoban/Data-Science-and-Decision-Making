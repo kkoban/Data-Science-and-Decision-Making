{
 "cells": [
  {
   "cell_type": "markdown",
   "id": "be2900cc",
   "metadata": {},
   "source": [
    "## Jobs"
   ]
  },
  {
   "cell_type": "code",
   "execution_count": 3,
   "id": "3b315ea1",
   "metadata": {},
   "outputs": [],
   "source": [
    "from sklearn.model_selection import train_test_split, cross_val_score # to split the data into train and test datasets \n",
    "from sklearn.preprocessing import StandardScaler # use of StandardScaler to standarise the dataset\n",
    "import numpy as np # library of mathematical operations\n",
    "import pandas as pd  # for data anlysis and manipulation\n",
    "import matplotlib.pyplot as plt # to display charts\n",
    "import seaborn as sns # datisualisation library\n",
    "from sklearn.model_selection import GridSearchCV # library function for cross-validation\n",
    "from econml.metalearners import XLearner # advanced CATE estimator\n",
    "from sklearn.ensemble import RandomForestClassifier # meta estimator for fitting decision trees\n",
    "from sklearn.tree import DecisionTreeClassifier # tree-structed classifier used for model building\n",
    "\n",
    "from helper_functions import feat_imp, get_ps_weights, policy_risk # self-defined funtions "
   ]
  },
  {
   "cell_type": "markdown",
   "id": "e353e830",
   "metadata": {},
   "source": [
    "### Loading the dataset"
   ]
  },
  {
   "cell_type": "code",
   "execution_count": 4,
   "id": "597bbb0c",
   "metadata": {
    "scrolled": true
   },
   "outputs": [
    {
     "data": {
      "text/html": [
       "<div>\n",
       "<style scoped>\n",
       "    .dataframe tbody tr th:only-of-type {\n",
       "        vertical-align: middle;\n",
       "    }\n",
       "\n",
       "    .dataframe tbody tr th {\n",
       "        vertical-align: top;\n",
       "    }\n",
       "\n",
       "    .dataframe thead th {\n",
       "        text-align: right;\n",
       "    }\n",
       "</style>\n",
       "<table border=\"1\" class=\"dataframe\">\n",
       "  <thead>\n",
       "    <tr style=\"text-align: right;\">\n",
       "      <th></th>\n",
       "      <th>x1</th>\n",
       "      <th>x2</th>\n",
       "      <th>x3</th>\n",
       "      <th>x4</th>\n",
       "      <th>x5</th>\n",
       "      <th>x6</th>\n",
       "      <th>x7</th>\n",
       "      <th>x8</th>\n",
       "      <th>x9</th>\n",
       "      <th>x10</th>\n",
       "      <th>x11</th>\n",
       "      <th>x12</th>\n",
       "      <th>x13</th>\n",
       "      <th>x14</th>\n",
       "      <th>x15</th>\n",
       "      <th>x16</th>\n",
       "      <th>x17</th>\n",
       "      <th>t</th>\n",
       "      <th>y</th>\n",
       "      <th>e</th>\n",
       "    </tr>\n",
       "  </thead>\n",
       "  <tbody>\n",
       "    <tr>\n",
       "      <th>0</th>\n",
       "      <td>-0.614282</td>\n",
       "      <td>1.464727</td>\n",
       "      <td>0.0</td>\n",
       "      <td>0.0</td>\n",
       "      <td>1.0</td>\n",
       "      <td>0.0</td>\n",
       "      <td>2.393250</td>\n",
       "      <td>2.746196</td>\n",
       "      <td>-0.653311</td>\n",
       "      <td>-0.656913</td>\n",
       "      <td>1.627531</td>\n",
       "      <td>2.462337</td>\n",
       "      <td>2.937244</td>\n",
       "      <td>0.0</td>\n",
       "      <td>0.0</td>\n",
       "      <td>2.843909</td>\n",
       "      <td>0.0</td>\n",
       "      <td>0.0</td>\n",
       "      <td>1.0</td>\n",
       "      <td>0.0</td>\n",
       "    </tr>\n",
       "    <tr>\n",
       "      <th>1</th>\n",
       "      <td>-0.802463</td>\n",
       "      <td>0.101835</td>\n",
       "      <td>0.0</td>\n",
       "      <td>0.0</td>\n",
       "      <td>1.0</td>\n",
       "      <td>0.0</td>\n",
       "      <td>0.109885</td>\n",
       "      <td>0.498271</td>\n",
       "      <td>-0.785284</td>\n",
       "      <td>-0.743407</td>\n",
       "      <td>-0.022502</td>\n",
       "      <td>-0.177193</td>\n",
       "      <td>0.082537</td>\n",
       "      <td>0.0</td>\n",
       "      <td>0.0</td>\n",
       "      <td>0.038422</td>\n",
       "      <td>0.0</td>\n",
       "      <td>0.0</td>\n",
       "      <td>1.0</td>\n",
       "      <td>0.0</td>\n",
       "    </tr>\n",
       "    <tr>\n",
       "      <th>2</th>\n",
       "      <td>-0.896553</td>\n",
       "      <td>-0.238888</td>\n",
       "      <td>1.0</td>\n",
       "      <td>0.0</td>\n",
       "      <td>1.0</td>\n",
       "      <td>1.0</td>\n",
       "      <td>-0.085212</td>\n",
       "      <td>-0.148097</td>\n",
       "      <td>-0.847312</td>\n",
       "      <td>-0.781606</td>\n",
       "      <td>-0.361348</td>\n",
       "      <td>-0.286221</td>\n",
       "      <td>-0.303615</td>\n",
       "      <td>0.0</td>\n",
       "      <td>0.0</td>\n",
       "      <td>-0.191304</td>\n",
       "      <td>0.0</td>\n",
       "      <td>0.0</td>\n",
       "      <td>1.0</td>\n",
       "      <td>0.0</td>\n",
       "    </tr>\n",
       "    <tr>\n",
       "      <th>3</th>\n",
       "      <td>-0.896553</td>\n",
       "      <td>-0.238888</td>\n",
       "      <td>0.0</td>\n",
       "      <td>0.0</td>\n",
       "      <td>0.0</td>\n",
       "      <td>1.0</td>\n",
       "      <td>0.405581</td>\n",
       "      <td>0.325594</td>\n",
       "      <td>-0.847312</td>\n",
       "      <td>-0.781606</td>\n",
       "      <td>-0.361348</td>\n",
       "      <td>0.023020</td>\n",
       "      <td>-0.039630</td>\n",
       "      <td>0.0</td>\n",
       "      <td>0.0</td>\n",
       "      <td>0.173108</td>\n",
       "      <td>0.0</td>\n",
       "      <td>0.0</td>\n",
       "      <td>1.0</td>\n",
       "      <td>1.0</td>\n",
       "    </tr>\n",
       "    <tr>\n",
       "      <th>4</th>\n",
       "      <td>0.138440</td>\n",
       "      <td>-1.601779</td>\n",
       "      <td>1.0</td>\n",
       "      <td>0.0</td>\n",
       "      <td>1.0</td>\n",
       "      <td>1.0</td>\n",
       "      <td>-0.722531</td>\n",
       "      <td>-0.212734</td>\n",
       "      <td>-0.019840</td>\n",
       "      <td>-0.156019</td>\n",
       "      <td>-1.422084</td>\n",
       "      <td>-0.514563</td>\n",
       "      <td>-0.331552</td>\n",
       "      <td>0.0</td>\n",
       "      <td>0.0</td>\n",
       "      <td>-0.779227</td>\n",
       "      <td>0.0</td>\n",
       "      <td>0.0</td>\n",
       "      <td>1.0</td>\n",
       "      <td>0.0</td>\n",
       "    </tr>\n",
       "    <tr>\n",
       "      <th>...</th>\n",
       "      <td>...</td>\n",
       "      <td>...</td>\n",
       "      <td>...</td>\n",
       "      <td>...</td>\n",
       "      <td>...</td>\n",
       "      <td>...</td>\n",
       "      <td>...</td>\n",
       "      <td>...</td>\n",
       "      <td>...</td>\n",
       "      <td>...</td>\n",
       "      <td>...</td>\n",
       "      <td>...</td>\n",
       "      <td>...</td>\n",
       "      <td>...</td>\n",
       "      <td>...</td>\n",
       "      <td>...</td>\n",
       "      <td>...</td>\n",
       "      <td>...</td>\n",
       "      <td>...</td>\n",
       "      <td>...</td>\n",
       "    </tr>\n",
       "    <tr>\n",
       "      <th>3207</th>\n",
       "      <td>1.737976</td>\n",
       "      <td>1.805449</td>\n",
       "      <td>0.0</td>\n",
       "      <td>0.0</td>\n",
       "      <td>1.0</td>\n",
       "      <td>0.0</td>\n",
       "      <td>4.235839</td>\n",
       "      <td>-1.110467</td>\n",
       "      <td>1.887171</td>\n",
       "      <td>1.995900</td>\n",
       "      <td>2.113702</td>\n",
       "      <td>6.424008</td>\n",
       "      <td>-0.518815</td>\n",
       "      <td>0.0</td>\n",
       "      <td>1.0</td>\n",
       "      <td>5.197260</td>\n",
       "      <td>0.0</td>\n",
       "      <td>0.0</td>\n",
       "      <td>0.0</td>\n",
       "      <td>0.0</td>\n",
       "    </tr>\n",
       "    <tr>\n",
       "      <th>3208</th>\n",
       "      <td>-0.520192</td>\n",
       "      <td>0.101835</td>\n",
       "      <td>0.0</td>\n",
       "      <td>0.0</td>\n",
       "      <td>0.0</td>\n",
       "      <td>0.0</td>\n",
       "      <td>0.239950</td>\n",
       "      <td>0.289997</td>\n",
       "      <td>-0.583365</td>\n",
       "      <td>-0.608340</td>\n",
       "      <td>-0.022502</td>\n",
       "      <td>-0.094318</td>\n",
       "      <td>-0.063091</td>\n",
       "      <td>0.0</td>\n",
       "      <td>0.0</td>\n",
       "      <td>0.143774</td>\n",
       "      <td>0.0</td>\n",
       "      <td>0.0</td>\n",
       "      <td>1.0</td>\n",
       "      <td>0.0</td>\n",
       "    </tr>\n",
       "    <tr>\n",
       "      <th>3209</th>\n",
       "      <td>-0.802463</td>\n",
       "      <td>0.442558</td>\n",
       "      <td>1.0</td>\n",
       "      <td>0.0</td>\n",
       "      <td>0.0</td>\n",
       "      <td>0.0</td>\n",
       "      <td>0.124337</td>\n",
       "      <td>0.692182</td>\n",
       "      <td>-0.785284</td>\n",
       "      <td>-0.743407</td>\n",
       "      <td>0.345809</td>\n",
       "      <td>-0.168387</td>\n",
       "      <td>0.236242</td>\n",
       "      <td>0.0</td>\n",
       "      <td>0.0</td>\n",
       "      <td>0.135970</td>\n",
       "      <td>0.0</td>\n",
       "      <td>0.0</td>\n",
       "      <td>1.0</td>\n",
       "      <td>0.0</td>\n",
       "    </tr>\n",
       "    <tr>\n",
       "      <th>3210</th>\n",
       "      <td>0.702982</td>\n",
       "      <td>0.101835</td>\n",
       "      <td>0.0</td>\n",
       "      <td>0.0</td>\n",
       "      <td>1.0</td>\n",
       "      <td>0.0</td>\n",
       "      <td>0.341112</td>\n",
       "      <td>0.670636</td>\n",
       "      <td>0.566120</td>\n",
       "      <td>0.413295</td>\n",
       "      <td>-0.022502</td>\n",
       "      <td>-0.024223</td>\n",
       "      <td>0.218301</td>\n",
       "      <td>0.0</td>\n",
       "      <td>0.0</td>\n",
       "      <td>0.225715</td>\n",
       "      <td>0.0</td>\n",
       "      <td>0.0</td>\n",
       "      <td>1.0</td>\n",
       "      <td>0.0</td>\n",
       "    </tr>\n",
       "    <tr>\n",
       "      <th>3211</th>\n",
       "      <td>1.455705</td>\n",
       "      <td>0.101835</td>\n",
       "      <td>0.0</td>\n",
       "      <td>0.0</td>\n",
       "      <td>1.0</td>\n",
       "      <td>0.0</td>\n",
       "      <td>-1.147411</td>\n",
       "      <td>-1.110467</td>\n",
       "      <td>1.495211</td>\n",
       "      <td>1.487376</td>\n",
       "      <td>-0.022502</td>\n",
       "      <td>-0.558057</td>\n",
       "      <td>-0.518815</td>\n",
       "      <td>1.0</td>\n",
       "      <td>1.0</td>\n",
       "      <td>-0.979981</td>\n",
       "      <td>0.0</td>\n",
       "      <td>0.0</td>\n",
       "      <td>1.0</td>\n",
       "      <td>0.0</td>\n",
       "    </tr>\n",
       "  </tbody>\n",
       "</table>\n",
       "<p>3212 rows × 20 columns</p>\n",
       "</div>"
      ],
      "text/plain": [
       "            x1        x2   x3   x4   x5   x6        x7        x8        x9  \\\n",
       "0    -0.614282  1.464727  0.0  0.0  1.0  0.0  2.393250  2.746196 -0.653311   \n",
       "1    -0.802463  0.101835  0.0  0.0  1.0  0.0  0.109885  0.498271 -0.785284   \n",
       "2    -0.896553 -0.238888  1.0  0.0  1.0  1.0 -0.085212 -0.148097 -0.847312   \n",
       "3    -0.896553 -0.238888  0.0  0.0  0.0  1.0  0.405581  0.325594 -0.847312   \n",
       "4     0.138440 -1.601779  1.0  0.0  1.0  1.0 -0.722531 -0.212734 -0.019840   \n",
       "...        ...       ...  ...  ...  ...  ...       ...       ...       ...   \n",
       "3207  1.737976  1.805449  0.0  0.0  1.0  0.0  4.235839 -1.110467  1.887171   \n",
       "3208 -0.520192  0.101835  0.0  0.0  0.0  0.0  0.239950  0.289997 -0.583365   \n",
       "3209 -0.802463  0.442558  1.0  0.0  0.0  0.0  0.124337  0.692182 -0.785284   \n",
       "3210  0.702982  0.101835  0.0  0.0  1.0  0.0  0.341112  0.670636  0.566120   \n",
       "3211  1.455705  0.101835  0.0  0.0  1.0  0.0 -1.147411 -1.110467  1.495211   \n",
       "\n",
       "           x10       x11       x12       x13  x14  x15       x16  x17    t  \\\n",
       "0    -0.656913  1.627531  2.462337  2.937244  0.0  0.0  2.843909  0.0  0.0   \n",
       "1    -0.743407 -0.022502 -0.177193  0.082537  0.0  0.0  0.038422  0.0  0.0   \n",
       "2    -0.781606 -0.361348 -0.286221 -0.303615  0.0  0.0 -0.191304  0.0  0.0   \n",
       "3    -0.781606 -0.361348  0.023020 -0.039630  0.0  0.0  0.173108  0.0  0.0   \n",
       "4    -0.156019 -1.422084 -0.514563 -0.331552  0.0  0.0 -0.779227  0.0  0.0   \n",
       "...        ...       ...       ...       ...  ...  ...       ...  ...  ...   \n",
       "3207  1.995900  2.113702  6.424008 -0.518815  0.0  1.0  5.197260  0.0  0.0   \n",
       "3208 -0.608340 -0.022502 -0.094318 -0.063091  0.0  0.0  0.143774  0.0  0.0   \n",
       "3209 -0.743407  0.345809 -0.168387  0.236242  0.0  0.0  0.135970  0.0  0.0   \n",
       "3210  0.413295 -0.022502 -0.024223  0.218301  0.0  0.0  0.225715  0.0  0.0   \n",
       "3211  1.487376 -0.022502 -0.558057 -0.518815  1.0  1.0 -0.979981  0.0  0.0   \n",
       "\n",
       "        y    e  \n",
       "0     1.0  0.0  \n",
       "1     1.0  0.0  \n",
       "2     1.0  0.0  \n",
       "3     1.0  1.0  \n",
       "4     1.0  0.0  \n",
       "...   ...  ...  \n",
       "3207  0.0  0.0  \n",
       "3208  1.0  0.0  \n",
       "3209  1.0  0.0  \n",
       "3210  1.0  0.0  \n",
       "3211  1.0  0.0  \n",
       "\n",
       "[3212 rows x 20 columns]"
      ]
     },
     "execution_count": 4,
     "metadata": {},
     "output_type": "execute_result"
    }
   ],
   "source": [
    "# to load the dataset\n",
    "jobs = pd.read_csv(\"https://raw.githubusercontent.com/dmachlanski/CE888_2022/main/project/data/jobs.csv\", delimiter=\",\")\n",
    "jobs"
   ]
  },
  {
   "cell_type": "markdown",
   "id": "bb08f07e",
   "metadata": {},
   "source": [
    "### Exploring the dataset"
   ]
  },
  {
   "cell_type": "code",
   "execution_count": 5,
   "id": "cb6de22a",
   "metadata": {},
   "outputs": [
    {
     "name": "stdout",
     "output_type": "stream",
     "text": [
      "<class 'pandas.core.frame.DataFrame'>\n",
      "RangeIndex: 3212 entries, 0 to 3211\n",
      "Data columns (total 20 columns):\n",
      " #   Column  Non-Null Count  Dtype  \n",
      "---  ------  --------------  -----  \n",
      " 0   x1      3212 non-null   float64\n",
      " 1   x2      3212 non-null   float64\n",
      " 2   x3      3212 non-null   float64\n",
      " 3   x4      3212 non-null   float64\n",
      " 4   x5      3212 non-null   float64\n",
      " 5   x6      3212 non-null   float64\n",
      " 6   x7      3212 non-null   float64\n",
      " 7   x8      3212 non-null   float64\n",
      " 8   x9      3212 non-null   float64\n",
      " 9   x10     3212 non-null   float64\n",
      " 10  x11     3212 non-null   float64\n",
      " 11  x12     3212 non-null   float64\n",
      " 12  x13     3212 non-null   float64\n",
      " 13  x14     3212 non-null   float64\n",
      " 14  x15     3212 non-null   float64\n",
      " 15  x16     3212 non-null   float64\n",
      " 16  x17     3212 non-null   float64\n",
      " 17  t       3212 non-null   float64\n",
      " 18  y       3212 non-null   float64\n",
      " 19  e       3212 non-null   float64\n",
      "dtypes: float64(20)\n",
      "memory usage: 502.0 KB\n"
     ]
    }
   ],
   "source": [
    "# to print information about the dataset\n",
    "jobs.info()"
   ]
  },
  {
   "cell_type": "code",
   "execution_count": 6,
   "id": "bcff17a0",
   "metadata": {},
   "outputs": [
    {
     "data": {
      "text/plain": [
       "1.0    0.849938\n",
       "0.0    0.150062\n",
       "Name: y, dtype: float64"
      ]
     },
     "execution_count": 6,
     "metadata": {},
     "output_type": "execute_result"
    }
   ],
   "source": [
    "jobs['y'].value_counts(1)"
   ]
  },
  {
   "cell_type": "code",
   "execution_count": 7,
   "id": "1a90a45a",
   "metadata": {},
   "outputs": [
    {
     "data": {
      "text/plain": [
       "0.0    0.907534\n",
       "1.0    0.092466\n",
       "Name: t, dtype: float64"
      ]
     },
     "execution_count": 7,
     "metadata": {},
     "output_type": "execute_result"
    }
   ],
   "source": [
    "jobs['t'].value_counts(1)"
   ]
  },
  {
   "cell_type": "code",
   "execution_count": 8,
   "id": "38fc2108",
   "metadata": {},
   "outputs": [
    {
     "name": "stdout",
     "output_type": "stream",
     "text": [
      "There are 3212 rows and 20 columns\n"
     ]
    }
   ],
   "source": [
    "nrow, ncol = jobs.shape\n",
    "print(f'There are {nrow} rows and {ncol} columns')"
   ]
  },
  {
   "cell_type": "code",
   "execution_count": 9,
   "id": "ece76d5c",
   "metadata": {},
   "outputs": [],
   "source": [
    "x = jobs[[\"x1\", 'x2', 'x3', 'x4', 'x5', 'x6', 'x7', 'x8', 'x9', 'x10',\n",
    "         'x11', 'x12', 'x13', 'x14', 'x15', 'x16', 'x17']]"
   ]
  },
  {
   "cell_type": "code",
   "execution_count": 10,
   "id": "455449a8",
   "metadata": {},
   "outputs": [],
   "source": [
    "# reshaping the single dimension vectors into 2D vectors as some methods prefer this representaion of data\n",
    "T = jobs['t'].values.reshape(-1, 1)\n",
    "Y = jobs['y'].values.reshape(-1, 1)\n",
    "e = jobs['e']"
   ]
  },
  {
   "cell_type": "code",
   "execution_count": 11,
   "id": "7381d4e8",
   "metadata": {},
   "outputs": [
    {
     "data": {
      "image/png": "[encoded data removed]",
      "text/plain": [
       "<Figure size 2160x1080 with 1 Axes>"
      ]
     },
     "metadata": {
      "needs_background": "light"
     },
     "output_type": "display_data"
    }
   ],
   "source": [
    "# to plot a boxplot of each feature in the dataset and check if the features vary in scale\n",
    "plt.figure(figsize=(30,15))\n",
    "_ = sns.boxplot(data = x)"
   ]
  },
  {
   "cell_type": "code",
   "execution_count": null,
   "id": "f2c3b05d",
   "metadata": {},
   "outputs": [],
   "source": [
    "plt.savefig(\"jobs_boxplot.pdf\")"
   ]
  },
  {
   "cell_type": "code",
   "execution_count": 12,
   "id": "95b21134",
   "metadata": {
    "scrolled": true
   },
   "outputs": [
    {
     "data": {
      "text/plain": [
       "array([[<AxesSubplot:title={'center':'x1'}>,\n",
       "        <AxesSubplot:title={'center':'x2'}>,\n",
       "        <AxesSubplot:title={'center':'x3'}>,\n",
       "        <AxesSubplot:title={'center':'x4'}>],\n",
       "       [<AxesSubplot:title={'center':'x5'}>,\n",
       "        <AxesSubplot:title={'center':'x6'}>,\n",
       "        <AxesSubplot:title={'center':'x7'}>,\n",
       "        <AxesSubplot:title={'center':'x8'}>],\n",
       "       [<AxesSubplot:title={'center':'x9'}>,\n",
       "        <AxesSubplot:title={'center':'x10'}>,\n",
       "        <AxesSubplot:title={'center':'x11'}>,\n",
       "        <AxesSubplot:title={'center':'x12'}>],\n",
       "       [<AxesSubplot:title={'center':'x13'}>,\n",
       "        <AxesSubplot:title={'center':'x14'}>,\n",
       "        <AxesSubplot:title={'center':'x15'}>,\n",
       "        <AxesSubplot:title={'center':'x16'}>],\n",
       "       [<AxesSubplot:title={'center':'x17'}>,\n",
       "        <AxesSubplot:title={'center':'t'}>,\n",
       "        <AxesSubplot:title={'center':'y'}>,\n",
       "        <AxesSubplot:title={'center':'e'}>]], dtype=object)"
      ]
     },
     "execution_count": 12,
     "metadata": {},
     "output_type": "execute_result"
    },
    {
     "data": {
      "image/png": "[encoded data removed]",
      "text/plain": [
       "<Figure size 1440x1440 with 20 Axes>"
      ]
     },
     "metadata": {
      "needs_background": "light"
     },
     "output_type": "display_data"
    }
   ],
   "source": [
    "# to draw histogram and look at the distribution of values of each feature\n",
    "jobs.hist(bins=50, figsize=(20,20))"
   ]
  },
  {
   "cell_type": "code",
   "execution_count": null,
   "id": "a3339530",
   "metadata": {},
   "outputs": [],
   "source": [
    "plt.savefig(\"jobs_histogram.pdf\")"
   ]
  },
  {
   "cell_type": "code",
   "execution_count": 13,
   "id": "f777130b",
   "metadata": {
    "scrolled": true
   },
   "outputs": [
    {
     "data": {
      "text/plain": [
       "<AxesSubplot:xlabel='y', ylabel='count'>"
      ]
     },
     "execution_count": 13,
     "metadata": {},
     "output_type": "execute_result"
    },
    {
     "data": {
      "image/png": "[encoded data removed]",
      "text/plain": [
       "<Figure size 432x288 with 1 Axes>"
      ]
     },
     "metadata": {
      "needs_background": "light"
     },
     "output_type": "display_data"
    }
   ],
   "source": [
    "sns.countplot(x = \"y\", data = jobs)"
   ]
  },
  {
   "cell_type": "code",
   "execution_count": null,
   "id": "b26924f4",
   "metadata": {},
   "outputs": [],
   "source": [
    "plt.savefig(\"jobs_y.pdf\")"
   ]
  },
  {
   "cell_type": "code",
   "execution_count": 14,
   "id": "ef187a6c",
   "metadata": {},
   "outputs": [
    {
     "data": {
      "text/plain": [
       "<AxesSubplot:xlabel='t', ylabel='count'>"
      ]
     },
     "execution_count": 14,
     "metadata": {},
     "output_type": "execute_result"
    },
    {
     "data": {
      "image/png": "[encoded data removed]",
      "text/plain": [
       "<Figure size 432x288 with 1 Axes>"
      ]
     },
     "metadata": {
      "needs_background": "light"
     },
     "output_type": "display_data"
    }
   ],
   "source": [
    "sns.countplot(x = \"t\", data = jobs)"
   ]
  },
  {
   "cell_type": "code",
   "execution_count": null,
   "id": "6674ab75",
   "metadata": {
    "scrolled": true
   },
   "outputs": [],
   "source": [
    "plt.savefig(\"jobs_t.pdf\")"
   ]
  },
  {
   "cell_type": "code",
   "execution_count": 15,
   "id": "386b4766",
   "metadata": {},
   "outputs": [
    {
     "data": {
      "text/plain": [
       "<AxesSubplot:>"
      ]
     },
     "execution_count": 15,
     "metadata": {},
     "output_type": "execute_result"
    },
    {
     "data": {
      "image/png": "[encoded data removed]",
      "text/plain": [
       "<Figure size 1440x1080 with 2 Axes>"
      ]
     },
     "metadata": {},
     "output_type": "display_data"
    }
   ],
   "source": [
    "# to calculate the correlations between each pair of variables\n",
    "corr = x.corr()\n",
    "\n",
    "# to plot a heatmap of the correlations between pairs of features\n",
    "sns.set(rc = {'figure.figsize':(20,15)})\n",
    "sns.heatmap(corr, annot = True)"
   ]
  },
  {
   "cell_type": "code",
   "execution_count": null,
   "id": "4a24bf3f",
   "metadata": {},
   "outputs": [],
   "source": [
    "plt.savefig(\"jobs_heatmap.pdf\")"
   ]
  },
  {
   "cell_type": "markdown",
   "id": "5fb75af2",
   "metadata": {},
   "source": [
    "### Data Pre-Processing"
   ]
  },
  {
   "cell_type": "code",
   "execution_count": 16,
   "id": "0c69b8e8",
   "metadata": {},
   "outputs": [
    {
     "name": "stdout",
     "output_type": "stream",
     "text": [
      "2569 643\n"
     ]
    }
   ],
   "source": [
    "# to split the data into train and test datasets\n",
    "train_set, test_set = train_test_split(jobs, test_size=0.2, random_state=50)  \n",
    "print(len(train_set), len(test_set))"
   ]
  },
  {
   "cell_type": "code",
   "execution_count": 17,
   "id": "3d5599f8",
   "metadata": {},
   "outputs": [],
   "source": [
    "x_train = train_set.drop(['t', 'y', 'e'], axis = 1)\n",
    "x_test = test_set.drop(['t', 'y', 'e'], axis = 1)"
   ]
  },
  {
   "cell_type": "code",
   "execution_count": 18,
   "id": "a3a7a0f4",
   "metadata": {},
   "outputs": [],
   "source": [
    "y_train = train_set['y']\n",
    "y_test = test_set['y']"
   ]
  },
  {
   "cell_type": "code",
   "execution_count": 19,
   "id": "3699de98",
   "metadata": {},
   "outputs": [],
   "source": [
    "t_train = train_set['t']\n",
    "t_test = test_set['t']"
   ]
  },
  {
   "cell_type": "code",
   "execution_count": 20,
   "id": "e2a63ad3",
   "metadata": {},
   "outputs": [],
   "source": [
    "e_train = train_set['e']\n",
    "e_test = test_set['e']"
   ]
  },
  {
   "cell_type": "code",
   "execution_count": 21,
   "id": "5f1ca1de",
   "metadata": {},
   "outputs": [],
   "source": [
    "# to standarise the dataset i.e. mean = 0 and s.d. = 1\n",
    "scaler_x = StandardScaler() \n",
    "x_train = scaler_x.fit_transform(x_train)\n",
    "x_test = scaler_x.transform(x_test)"
   ]
  },
  {
   "cell_type": "code",
   "execution_count": 22,
   "id": "185bd45b",
   "metadata": {},
   "outputs": [],
   "source": [
    "xtrain = pd.DataFrame(x_train)\n",
    "ttrain = pd.DataFrame(t_train)"
   ]
  },
  {
   "cell_type": "code",
   "execution_count": 23,
   "id": "16e5b42f",
   "metadata": {},
   "outputs": [],
   "source": [
    "xtest = pd.DataFrame(x_test)\n",
    "ttest = pd.DataFrame(t_test)"
   ]
  },
  {
   "cell_type": "markdown",
   "id": "34fcfc90",
   "metadata": {},
   "source": [
    "## Modelling"
   ]
  },
  {
   "cell_type": "markdown",
   "id": "d1bba3c4",
   "metadata": {},
   "source": [
    "#### Simple learners"
   ]
  },
  {
   "cell_type": "code",
   "execution_count": 24,
   "id": "10d7586f",
   "metadata": {},
   "outputs": [],
   "source": [
    "# to fit a simple Random Forest classification model\n",
    "clf = RandomForestClassifier()"
   ]
  },
  {
   "cell_type": "code",
   "execution_count": 25,
   "id": "8729d4d3",
   "metadata": {},
   "outputs": [
    {
     "name": "stdout",
     "output_type": "stream",
     "text": [
      "f1 score: 0.92 +/- 0.01\n"
     ]
    }
   ],
   "source": [
    "scores = cross_val_score(clf, x_train, y_train, cv=10, scoring = \"f1\")\n",
    "print(\"f1 score: %.2f +/- %.2f\" % (scores.mean(), scores.std()))"
   ]
  },
  {
   "cell_type": "code",
   "execution_count": 26,
   "id": "741859e9",
   "metadata": {},
   "outputs": [],
   "source": [
    "param_grid = { \n",
    "    'n_estimators': [25,50,100,150],\n",
    "    'max_depth' : [3,4,5,6,7,8],\n",
    "}"
   ]
  },
  {
   "cell_type": "code",
   "execution_count": 27,
   "id": "67ed12a9",
   "metadata": {},
   "outputs": [
    {
     "data": {
      "text/plain": [
       "GridSearchCV(cv=10, estimator=RandomForestClassifier(),\n",
       "             param_grid={'max_depth': [3, 4, 5, 6, 7, 8],\n",
       "                         'n_estimators': [25, 50, 100, 150]})"
      ]
     },
     "execution_count": 27,
     "metadata": {},
     "output_type": "execute_result"
    }
   ],
   "source": [
    "# for hyperparameter tuning\n",
    "CV_clf = GridSearchCV(estimator=clf, param_grid=param_grid, cv= 10)\n",
    "CV_clf.fit(x_train, y_train)"
   ]
  },
  {
   "cell_type": "code",
   "execution_count": 28,
   "id": "c6a20934",
   "metadata": {},
   "outputs": [
    {
     "data": {
      "text/plain": [
       "{'max_depth': 6, 'n_estimators': 50}"
      ]
     },
     "execution_count": 28,
     "metadata": {},
     "output_type": "execute_result"
    }
   ],
   "source": [
    "# to find the best suited parameters for the classification model\n",
    "CV_clf.best_params_"
   ]
  },
  {
   "cell_type": "code",
   "execution_count": 29,
   "id": "6f3190b9",
   "metadata": {},
   "outputs": [],
   "source": [
    "simple_clf = RandomForestClassifier(n_estimators = 100, max_depth = 4)"
   ]
  },
  {
   "cell_type": "code",
   "execution_count": 30,
   "id": "525077ed",
   "metadata": {},
   "outputs": [
    {
     "data": {
      "text/plain": [
       "RandomForestClassifier(max_depth=4)"
      ]
     },
     "execution_count": 30,
     "metadata": {},
     "output_type": "execute_result"
    }
   ],
   "source": [
    "xt_train = np.concatenate([xtrain, ttrain], axis=1)\n",
    "\n",
    "# to build the model on the traing data\n",
    "simple_clf.fit(xt_train, y_train)"
   ]
  },
  {
   "cell_type": "code",
   "execution_count": 31,
   "id": "503daeb8",
   "metadata": {},
   "outputs": [
    {
     "name": "stdout",
     "output_type": "stream",
     "text": [
      "f1 score: 0.93 +/- 0.01\n"
     ]
    }
   ],
   "source": [
    "scores = cross_val_score(simple_clf, xt_train, y_train, cv = 10, scoring = \"f1\")\n",
    "print(\"f1 score: %.2f +/- %.2f\" % (scores.mean(), scores.std()))"
   ]
  },
  {
   "cell_type": "code",
   "execution_count": 32,
   "id": "d57cf934",
   "metadata": {},
   "outputs": [],
   "source": [
    "# to merge x and t = 1\n",
    "xt1_test = np.concatenate([xtest, np.ones_like(ttest)], axis=1)\n",
    "\n",
    "# to predict y based on features and treatmnent effects\n",
    "simple_clf_y1_test = simple_clf.predict(xt1_test)"
   ]
  },
  {
   "cell_type": "code",
   "execution_count": 33,
   "id": "a249d5a3",
   "metadata": {},
   "outputs": [],
   "source": [
    "# to use pre-defined policy risk function\n",
    "policy_risk1 = policy_risk(simple_clf_y1_test, y_test, t_test, e_test)"
   ]
  },
  {
   "cell_type": "code",
   "execution_count": 34,
   "id": "c988c4ad",
   "metadata": {},
   "outputs": [
    {
     "data": {
      "text/html": [
       "<div>\n",
       "<style scoped>\n",
       "    .dataframe tbody tr th:only-of-type {\n",
       "        vertical-align: middle;\n",
       "    }\n",
       "\n",
       "    .dataframe tbody tr th {\n",
       "        vertical-align: top;\n",
       "    }\n",
       "\n",
       "    .dataframe thead th {\n",
       "        text-align: right;\n",
       "    }\n",
       "</style>\n",
       "<table border=\"1\" class=\"dataframe\">\n",
       "  <thead>\n",
       "    <tr style=\"text-align: right;\">\n",
       "      <th></th>\n",
       "      <th>Method</th>\n",
       "      <th>Policy risk</th>\n",
       "    </tr>\n",
       "  </thead>\n",
       "  <tbody>\n",
       "    <tr>\n",
       "      <th>0</th>\n",
       "      <td>Simple Learner</td>\n",
       "      <td>0.217418</td>\n",
       "    </tr>\n",
       "  </tbody>\n",
       "</table>\n",
       "</div>"
      ],
      "text/plain": [
       "           Method  Policy risk\n",
       "0  Simple Learner     0.217418"
      ]
     },
     "execution_count": 34,
     "metadata": {},
     "output_type": "execute_result"
    }
   ],
   "source": [
    "results = []\n",
    "results.append(['Simple Learner', policy_risk1])\n",
    "\n",
    "cols = ['Method', 'Policy risk']\n",
    "\n",
    "df = pd.DataFrame(results, columns=cols)\n",
    "df"
   ]
  },
  {
   "cell_type": "code",
   "execution_count": 35,
   "id": "6a5be1c6",
   "metadata": {},
   "outputs": [],
   "source": [
    "# to plot feature importance by calling pre-defined function\n",
    "importances, indices = feat_imp(simple_clf)"
   ]
  },
  {
   "cell_type": "code",
   "execution_count": 36,
   "id": "9a7cac50",
   "metadata": {},
   "outputs": [],
   "source": [
    "names = jobs.drop(['y', 'e'], axis=1).columns.values"
   ]
  },
  {
   "cell_type": "code",
   "execution_count": 37,
   "id": "5ba24d84",
   "metadata": {},
   "outputs": [
    {
     "name": "stdout",
     "output_type": "stream",
     "text": [
      "Feature ranking:\n",
      "1. 7 (0.214728)\n",
      "2. 12 (0.166213)\n",
      "3. 11 (0.112956)\n",
      "4. 6 (0.094513)\n",
      "5. 15 (0.092326)\n",
      "6. 14 (0.074766)\n",
      "7. 0 (0.056139)\n",
      "8. 9 (0.048559)\n",
      "9. 8 (0.047643)\n",
      "10. 4 (0.027145)\n",
      "11. 17 (0.018667)\n",
      "12. 1 (0.012888)\n",
      "13. 10 (0.009846)\n",
      "14. 13 (0.009051)\n",
      "15. 2 (0.008074)\n",
      "16. 5 (0.003799)\n",
      "17. 3 (0.002350)\n"
     ]
    }
   ],
   "source": [
    "# to print the feature ranking\n",
    "print(\"Feature ranking:\")\n",
    "for f in range(x_train.shape[1]):\n",
    "    print(\"%d. %s (%f)\" % (f + 1, indices[f],  importances[indices[f]]))"
   ]
  },
  {
   "cell_type": "code",
   "execution_count": 38,
   "id": "db9b3fba",
   "metadata": {},
   "outputs": [
    {
     "data": {
      "text/plain": [
       "<BarContainer object of 18 artists>"
      ]
     },
     "execution_count": 38,
     "metadata": {},
     "output_type": "execute_result"
    },
    {
     "data": {
      "image/png": "[encoded data removed]",
      "text/plain": [
       "<Figure size 864x432 with 1 Axes>"
      ]
     },
     "metadata": {},
     "output_type": "display_data"
    }
   ],
   "source": [
    "# to plot the feature importances of the forest\n",
    "plt.rcParams[\"figure.figsize\"] = (12, 6)\n",
    "plt.title(\"Simple Learner - Feature importances\")\n",
    "plt.bar(names,importances, color=\"m\", edgecolor=\"black\")"
   ]
  },
  {
   "cell_type": "markdown",
   "id": "2e9a47dc",
   "metadata": {},
   "source": [
    "#### Propensity score re-weighting"
   ]
  },
  {
   "cell_type": "code",
   "execution_count": 39,
   "id": "0b57f494",
   "metadata": {},
   "outputs": [],
   "source": [
    "# to train a classifier to predict propensity scores\n",
    "prop_clf = DecisionTreeClassifier()"
   ]
  },
  {
   "cell_type": "code",
   "execution_count": 40,
   "id": "0b9a1085",
   "metadata": {},
   "outputs": [
    {
     "name": "stdout",
     "output_type": "stream",
     "text": [
      "f1 score: 0.32\n"
     ]
    }
   ],
   "source": [
    "scores = cross_val_score(prop_clf, x_train, t_train, cv=10, scoring = \"f1\")\n",
    "print(\"f1 score: %.2f\" % (scores.mean()))"
   ]
  },
  {
   "cell_type": "code",
   "execution_count": 41,
   "id": "cb4ef1b9",
   "metadata": {},
   "outputs": [],
   "source": [
    "param_grid = { \n",
    "    'max_depth' : [2, 3, 4, 5, 6],\n",
    "}"
   ]
  },
  {
   "cell_type": "code",
   "execution_count": 42,
   "id": "b63df182",
   "metadata": {},
   "outputs": [
    {
     "data": {
      "text/plain": [
       "GridSearchCV(cv=10, estimator=DecisionTreeClassifier(),\n",
       "             param_grid={'max_depth': [2, 3, 4, 5, 6]})"
      ]
     },
     "execution_count": 42,
     "metadata": {},
     "output_type": "execute_result"
    }
   ],
   "source": [
    "# for hyperparameter tuning\n",
    "CV1_model = GridSearchCV(estimator=prop_clf, param_grid=param_grid, cv= 10)\n",
    "CV1_model.fit(x_train, t_train)"
   ]
  },
  {
   "cell_type": "code",
   "execution_count": 43,
   "id": "96265cfb",
   "metadata": {},
   "outputs": [
    {
     "data": {
      "text/plain": [
       "{'max_depth': 2}"
      ]
     },
     "execution_count": 43,
     "metadata": {},
     "output_type": "execute_result"
    }
   ],
   "source": [
    "# to find the best suited parameters for the classification model\n",
    "CV1_model.best_params_"
   ]
  },
  {
   "cell_type": "code",
   "execution_count": 44,
   "id": "a1e87c9f",
   "metadata": {},
   "outputs": [],
   "source": [
    "prop = DecisionTreeClassifier(max_depth = 2)"
   ]
  },
  {
   "cell_type": "code",
   "execution_count": 45,
   "id": "2417617d",
   "metadata": {},
   "outputs": [
    {
     "name": "stdout",
     "output_type": "stream",
     "text": [
      "f1 score: 0.00\n"
     ]
    }
   ],
   "source": [
    "scores = cross_val_score(prop, x_train, t_train, cv=10, scoring = \"f1\")\n",
    "print(\"f1 score: %.2f\" % (scores.mean()))"
   ]
  },
  {
   "cell_type": "code",
   "execution_count": 46,
   "id": "1030ae10",
   "metadata": {},
   "outputs": [],
   "source": [
    "# to get the sample weights\n",
    "weights = get_ps_weights(prop, x_train, t_train)"
   ]
  },
  {
   "cell_type": "code",
   "execution_count": 47,
   "id": "f3833c91",
   "metadata": {},
   "outputs": [],
   "source": [
    "# to build a Random Forest classification model\n",
    "model = RandomForestClassifier()"
   ]
  },
  {
   "cell_type": "code",
   "execution_count": 48,
   "id": "37039411",
   "metadata": {},
   "outputs": [
    {
     "name": "stdout",
     "output_type": "stream",
     "text": [
      "f1 score: 0.92 +/- 0.01\n"
     ]
    }
   ],
   "source": [
    "scores = cross_val_score(model, x_train, y_train, cv=10, scoring = \"f1\")\n",
    "print(\"f1 score: %.2f +/- %.2f\" % (scores.mean(), scores.std()))"
   ]
  },
  {
   "cell_type": "code",
   "execution_count": 49,
   "id": "48bc51b8",
   "metadata": {},
   "outputs": [],
   "source": [
    "param_grid_ = { \n",
    "    'n_estimators': [25, 50, 100, 150, 200],\n",
    "    'max_depth' : [4, 5, 6, 7, 8, 9, 10, 11, 12]\n",
    "}"
   ]
  },
  {
   "cell_type": "code",
   "execution_count": 50,
   "id": "05db7849",
   "metadata": {},
   "outputs": [
    {
     "data": {
      "text/plain": [
       "GridSearchCV(cv=10, estimator=RandomForestClassifier(),\n",
       "             param_grid={'max_depth': [4, 5, 6, 7, 8, 9, 10, 11, 12],\n",
       "                         'n_estimators': [25, 50, 100, 150, 200]})"
      ]
     },
     "execution_count": 50,
     "metadata": {},
     "output_type": "execute_result"
    }
   ],
   "source": [
    "# for hyperparameter tuning\n",
    "CV_model = GridSearchCV(estimator=model, param_grid=param_grid_, cv= 10)\n",
    "CV_model.fit(x_train, y_train)"
   ]
  },
  {
   "cell_type": "code",
   "execution_count": 51,
   "id": "527fbc6b",
   "metadata": {},
   "outputs": [
    {
     "data": {
      "text/plain": [
       "{'max_depth': 5, 'n_estimators': 100}"
      ]
     },
     "execution_count": 51,
     "metadata": {},
     "output_type": "execute_result"
    }
   ],
   "source": [
    "# to find the best suited parameters for the classification model\n",
    "CV_model.best_params_"
   ]
  },
  {
   "cell_type": "code",
   "execution_count": 52,
   "id": "0e91c98d",
   "metadata": {},
   "outputs": [
    {
     "data": {
      "text/plain": [
       "RandomForestClassifier(max_depth=5, n_estimators=50)"
      ]
     },
     "execution_count": 52,
     "metadata": {},
     "output_type": "execute_result"
    }
   ],
   "source": [
    "# to train the classifier based on the propensity model\n",
    "ipsw = RandomForestClassifier(n_estimators = 50, max_depth = 5)\n",
    "ipsw.fit(xt_train, y_train, sample_weight= weights)"
   ]
  },
  {
   "cell_type": "code",
   "execution_count": 53,
   "id": "ddeb8de6",
   "metadata": {},
   "outputs": [
    {
     "name": "stdout",
     "output_type": "stream",
     "text": [
      "f1 score: 0.93 +/- 0.01\n"
     ]
    }
   ],
   "source": [
    "scores = cross_val_score(ipsw, x_train, y_train, cv=10, scoring = \"f1\")\n",
    "print(\"f1 score: %.2f +/- %.2f\" % (scores.mean(), scores.std()))"
   ]
  },
  {
   "cell_type": "code",
   "execution_count": 54,
   "id": "94e89d5f",
   "metadata": {},
   "outputs": [],
   "source": [
    "# to make predictions\n",
    "ipsw_y1_test = ipsw.predict(np.concatenate([xtest, np.ones_like(ttest)], axis=1))"
   ]
  },
  {
   "cell_type": "code",
   "execution_count": 55,
   "id": "ad5dac34",
   "metadata": {},
   "outputs": [],
   "source": [
    "# to merge x and t = 1\n",
    "xt1_test = np.concatenate([xtest, np.ones_like(ttest)], axis=1)\n",
    "\n",
    "# to predict y based on features and treatmnent effects\n",
    "ipsw_y1_test = ipsw.predict(xt1_test)"
   ]
  },
  {
   "cell_type": "code",
   "execution_count": 56,
   "id": "8989b4a7",
   "metadata": {},
   "outputs": [],
   "source": [
    "# to use pre-defined policy risk function\n",
    "policy_risk2 = policy_risk(ipsw_y1_test, y_test, t_test, e_test)"
   ]
  },
  {
   "cell_type": "code",
   "execution_count": 57,
   "id": "9b70c6e9",
   "metadata": {},
   "outputs": [
    {
     "data": {
      "text/html": [
       "<div>\n",
       "<style scoped>\n",
       "    .dataframe tbody tr th:only-of-type {\n",
       "        vertical-align: middle;\n",
       "    }\n",
       "\n",
       "    .dataframe tbody tr th {\n",
       "        vertical-align: top;\n",
       "    }\n",
       "\n",
       "    .dataframe thead th {\n",
       "        text-align: right;\n",
       "    }\n",
       "</style>\n",
       "<table border=\"1\" class=\"dataframe\">\n",
       "  <thead>\n",
       "    <tr style=\"text-align: right;\">\n",
       "      <th></th>\n",
       "      <th>Method</th>\n",
       "      <th>Policy Risk</th>\n",
       "    </tr>\n",
       "  </thead>\n",
       "  <tbody>\n",
       "    <tr>\n",
       "      <th>0</th>\n",
       "      <td>IPSW</td>\n",
       "      <td>0.230605</td>\n",
       "    </tr>\n",
       "  </tbody>\n",
       "</table>\n",
       "</div>"
      ],
      "text/plain": [
       "  Method  Policy Risk\n",
       "0   IPSW     0.230605"
      ]
     },
     "execution_count": 57,
     "metadata": {},
     "output_type": "execute_result"
    }
   ],
   "source": [
    "results = []\n",
    "results.append(['IPSW', policy_risk2])\n",
    "\n",
    "cols = ['Method', 'Policy Risk']\n",
    "\n",
    "df = pd.DataFrame(results, columns=cols)\n",
    "df"
   ]
  },
  {
   "cell_type": "code",
   "execution_count": 58,
   "id": "7bd4f4bb",
   "metadata": {},
   "outputs": [],
   "source": [
    "# to plot feature importance by calling pre-defined function\n",
    "importances, indices = feat_imp(ipsw)"
   ]
  },
  {
   "cell_type": "code",
   "execution_count": 59,
   "id": "86a40f77",
   "metadata": {},
   "outputs": [
    {
     "name": "stdout",
     "output_type": "stream",
     "text": [
      "Feature ranking:\n",
      "1. 7 (0.277140)\n",
      "2. 12 (0.136883)\n",
      "3. 11 (0.083813)\n",
      "4. 6 (0.075426)\n",
      "5. 15 (0.068438)\n",
      "6. 17 (0.048939)\n",
      "7. 8 (0.046479)\n",
      "8. 9 (0.045253)\n",
      "9. 0 (0.044204)\n",
      "10. 14 (0.036219)\n",
      "11. 10 (0.035771)\n",
      "12. 4 (0.033396)\n",
      "13. 1 (0.025669)\n",
      "14. 13 (0.022943)\n",
      "15. 2 (0.009997)\n",
      "16. 3 (0.004704)\n",
      "17. 5 (0.004252)\n"
     ]
    }
   ],
   "source": [
    "# to print the feature ranking\n",
    "print(\"Feature ranking:\")\n",
    "for f in range(x_train.shape[1]):\n",
    "    print(\"%d. %s (%f)\" % (f + 1, indices[f],  importances[indices[f]]))"
   ]
  },
  {
   "cell_type": "code",
   "execution_count": 60,
   "id": "d696535d",
   "metadata": {},
   "outputs": [
    {
     "data": {
      "text/plain": [
       "<BarContainer object of 18 artists>"
      ]
     },
     "execution_count": 60,
     "metadata": {},
     "output_type": "execute_result"
    },
    {
     "data": {
      "image/png": "[encoded data removed]",
      "text/plain": [
       "<Figure size 864x432 with 1 Axes>"
      ]
     },
     "metadata": {},
     "output_type": "display_data"
    }
   ],
   "source": [
    "# to plot the feature importances of the forest\n",
    "plt.rcParams[\"figure.figsize\"] = (12, 6)\n",
    "plt.title(\"IPSW - Feature importances\")\n",
    "plt.bar(names,importances, color=\"c\", edgecolor=\"black\")"
   ]
  },
  {
   "cell_type": "markdown",
   "id": "2581f27e",
   "metadata": {},
   "source": [
    "#### Advanced CATE estimators"
   ]
  },
  {
   "cell_type": "code",
   "execution_count": 61,
   "id": "cef403a0",
   "metadata": {},
   "outputs": [],
   "source": [
    "# to implement Random Forest a cross-validation classification model that automatically chooses the hyperparameters\n",
    "first_stage = GridSearchCV(\n",
    "                estimator=RandomForestClassifier(),\n",
    "                param_grid={\n",
    "                        'max_depth': [3, 4, 5, 6, 7],\n",
    "                        'n_estimators': (50, 100, 150, 200)\n",
    "                    }, cv=10, n_jobs=-1, scoring='f1'\n",
    "                )\n",
    "mod_y = first_stage.fit(x_train, y_train).best_estimator_"
   ]
  },
  {
   "cell_type": "code",
   "execution_count": 62,
   "id": "81e9bf84",
   "metadata": {},
   "outputs": [],
   "source": [
    "# to implement Decision Tree Forest a cross-validation classification model that automatically chooses the hyperparameters\n",
    "first_stage0 = GridSearchCV(\n",
    "                estimator=DecisionTreeClassifier(),\n",
    "                param_grid={\n",
    "                        'max_depth': [2, 3, 4, 5, 6, 7]\n",
    "                    }, cv=10, n_jobs=-1, scoring='f1'\n",
    "                )\n",
    "mod_t = first_stage0.fit(x_train, t_train).best_estimator_"
   ]
  },
  {
   "cell_type": "code",
   "execution_count": 63,
   "id": "4fe9639a",
   "metadata": {},
   "outputs": [],
   "source": [
    "# to instantiate X learner\n",
    "X_learner = XLearner(models=mod_y, propensity_model=mod_t)"
   ]
  },
  {
   "cell_type": "code",
   "execution_count": 64,
   "id": "c87577e0",
   "metadata": {},
   "outputs": [
    {
     "name": "stderr",
     "output_type": "stream",
     "text": [
      "Function get_feature_names is deprecated; get_feature_names is deprecated in 1.0 and will be removed in 1.2. Please use get_feature_names_out instead.\n"
     ]
    },
    {
     "data": {
      "text/plain": [
       "<econml.metalearners._metalearners.XLearner at 0x244af7506a0>"
      ]
     },
     "execution_count": 64,
     "metadata": {},
     "output_type": "execute_result"
    }
   ],
   "source": [
    "# to train X_learner\n",
    "X_learner.fit(y_train, t_train, X=x_train)"
   ]
  },
  {
   "cell_type": "code",
   "execution_count": 65,
   "id": "5d0d3335",
   "metadata": {},
   "outputs": [],
   "source": [
    "# to estimate treatment effects on test data\n",
    "x_estimate = X_learner.effect(x_test)"
   ]
  },
  {
   "cell_type": "code",
   "execution_count": 66,
   "id": "ecfcf7ba",
   "metadata": {},
   "outputs": [],
   "source": [
    "# to use pre-defined policy risk function\n",
    "policy_risk3 = policy_risk(x_estimate, y_test, t_test, e_test)"
   ]
  },
  {
   "cell_type": "code",
   "execution_count": 67,
   "id": "de11d5d8",
   "metadata": {},
   "outputs": [
    {
     "data": {
      "text/html": [
       "<div>\n",
       "<style scoped>\n",
       "    .dataframe tbody tr th:only-of-type {\n",
       "        vertical-align: middle;\n",
       "    }\n",
       "\n",
       "    .dataframe tbody tr th {\n",
       "        vertical-align: top;\n",
       "    }\n",
       "\n",
       "    .dataframe thead th {\n",
       "        text-align: right;\n",
       "    }\n",
       "</style>\n",
       "<table border=\"1\" class=\"dataframe\">\n",
       "  <thead>\n",
       "    <tr style=\"text-align: right;\">\n",
       "      <th></th>\n",
       "      <th>Method</th>\n",
       "      <th>Policy Risk</th>\n",
       "    </tr>\n",
       "  </thead>\n",
       "  <tbody>\n",
       "    <tr>\n",
       "      <th>0</th>\n",
       "      <td>XL</td>\n",
       "      <td>0.302065</td>\n",
       "    </tr>\n",
       "  </tbody>\n",
       "</table>\n",
       "</div>"
      ],
      "text/plain": [
       "  Method  Policy Risk\n",
       "0     XL     0.302065"
      ]
     },
     "execution_count": 67,
     "metadata": {},
     "output_type": "execute_result"
    }
   ],
   "source": [
    "results = []\n",
    "results.append(['XL', policy_risk3])\n",
    "\n",
    "col = ['Method', 'Policy Risk']\n",
    "\n",
    "df = pd.DataFrame(results, columns=col)\n",
    "df"
   ]
  },
  {
   "cell_type": "markdown",
   "id": "5c2a4334",
   "metadata": {},
   "source": [
    "#### Results comparison"
   ]
  },
  {
   "cell_type": "code",
   "execution_count": 68,
   "id": "37a8c4c0",
   "metadata": {},
   "outputs": [
    {
     "data": {
      "text/html": [
       "<div>\n",
       "<style scoped>\n",
       "    .dataframe tbody tr th:only-of-type {\n",
       "        vertical-align: middle;\n",
       "    }\n",
       "\n",
       "    .dataframe tbody tr th {\n",
       "        vertical-align: top;\n",
       "    }\n",
       "\n",
       "    .dataframe thead th {\n",
       "        text-align: right;\n",
       "    }\n",
       "</style>\n",
       "<table border=\"1\" class=\"dataframe\">\n",
       "  <thead>\n",
       "    <tr style=\"text-align: right;\">\n",
       "      <th></th>\n",
       "      <th>Method</th>\n",
       "      <th>Policy Risk</th>\n",
       "    </tr>\n",
       "  </thead>\n",
       "  <tbody>\n",
       "    <tr>\n",
       "      <th>0</th>\n",
       "      <td>Simple Learner</td>\n",
       "      <td>0.217418</td>\n",
       "    </tr>\n",
       "    <tr>\n",
       "      <th>1</th>\n",
       "      <td>IPW</td>\n",
       "      <td>0.230605</td>\n",
       "    </tr>\n",
       "    <tr>\n",
       "      <th>2</th>\n",
       "      <td>XL</td>\n",
       "      <td>0.302065</td>\n",
       "    </tr>\n",
       "  </tbody>\n",
       "</table>\n",
       "</div>"
      ],
      "text/plain": [
       "           Method  Policy Risk\n",
       "0  Simple Learner     0.217418\n",
       "1             IPW     0.230605\n",
       "2              XL     0.302065"
      ]
     },
     "execution_count": 68,
     "metadata": {},
     "output_type": "execute_result"
    }
   ],
   "source": [
    "# to compare all the results\n",
    "results = []\n",
    "results.append(['Simple Learner', policy_risk1])\n",
    "results.append(['IPW', policy_risk2])\n",
    "results.append(['XL', policy_risk3])\n",
    "\n",
    "cols = ['Method', 'Policy Risk']\n",
    "\n",
    "df = pd.DataFrame(results, columns=cols)\n",
    "df"
   ]
  }
 ],
 "metadata": {
  "kernelspec": {
   "display_name": "Python 3 (ipykernel)",
   "language": "python",
   "name": "python3"
  },
  "language_info": {
   "codemirror_mode": {
    "name": "ipython",
    "version": 3
   },
   "file_extension": ".py",
   "mimetype": "text/x-python",
   "name": "python",
   "nbconvert_exporter": "python",
   "pygments_lexer": "ipython3",
   "version": "3.9.7"
  }
 },
 "nbformat": 4,
 "nbformat_minor": 5
}
