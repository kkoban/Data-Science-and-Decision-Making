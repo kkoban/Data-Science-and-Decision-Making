{
 "cells": [
  {
   "cell_type": "markdown",
   "id": "be2900cc",
   "metadata": {},
   "source": [
    "## Jobs"
   ]
  },
  {
   "cell_type": "code",
   "execution_count": null,
   "id": "af57ec65",
   "metadata": {
    "scrolled": true
   },
   "outputs": [],
   "source": [
    "!pip install econml"
   ]
  },
  {
   "cell_type": "code",
   "execution_count": null,
   "id": "3b315ea1",
   "metadata": {},
   "outputs": [],
   "source": [
    "from sklearn.model_selection import train_test_split, cross_val_score # to split the data into train and test datasets \n",
    "from sklearn.preprocessing import StandardScaler # use of StandardScaler to standarise the dataset\n",
    "import numpy as np # library of mathematical operations\n",
    "import pandas as pd  # for data anlysis and manipulation\n",
    "import matplotlib.pyplot as plt # to display charts\n",
    "import seaborn as sns # data visualisation library\n",
    "from econml.metalearners import XLearner\n",
    "from sklearn.model_selection import GridSearchCV\n",
    "from sklearn.ensemble import RandomForestRegressor, RandomForestClassifier"
   ]
  },
  {
   "cell_type": "markdown",
   "id": "e353e830",
   "metadata": {},
   "source": [
    "### Loading the dataset"
   ]
  },
  {
   "cell_type": "code",
   "execution_count": null,
   "id": "597bbb0c",
   "metadata": {
    "scrolled": true
   },
   "outputs": [],
   "source": [
    "jobs = pd.read_csv(\"https://raw.githubusercontent.com/dmachlanski/CE888_2022/main/project/data/jobs.csv\", delimiter=\",\")\n",
    "jobs"
   ]
  },
  {
   "cell_type": "markdown",
   "id": "bb08f07e",
   "metadata": {},
   "source": [
    "### Exploring the dataset"
   ]
  },
  {
   "cell_type": "code",
   "execution_count": null,
   "id": "cb6de22a",
   "metadata": {},
   "outputs": [],
   "source": [
    "jobs.info()"
   ]
  },
  {
   "cell_type": "code",
   "execution_count": null,
   "id": "38fc2108",
   "metadata": {},
   "outputs": [],
   "source": [
    "nrow, ncol = jobs.shape\n",
    "print(f'There are {nrow} rows and {ncol} columns')"
   ]
  },
  {
   "cell_type": "code",
   "execution_count": null,
   "id": "ece76d5c",
   "metadata": {},
   "outputs": [],
   "source": [
    "x = jobs[[\"x1\", 'x2', 'x3', 'x4', 'x5', 'x6', 'x7', 'x8', 'x9', 'x10',\n",
    "         'x11', 'x12', 'x13', 'x14', 'x15', 'x16', 'x17']]"
   ]
  },
  {
   "cell_type": "code",
   "execution_count": null,
   "id": "455449a8",
   "metadata": {},
   "outputs": [],
   "source": [
    "# reshaping the single dimension vectors into 2D vectors as some methods prefer this representaion of data\n",
    "T = jobs['t'].values.reshape(-1, 1)\n",
    "Y = jobs['y'].values.reshape(-1, 1)\n",
    "e = jobs['e']"
   ]
  },
  {
   "cell_type": "code",
   "execution_count": null,
   "id": "7381d4e8",
   "metadata": {},
   "outputs": [],
   "source": [
    "# to plot a boxplot of each feature in the dataset and check if the features vary in scale\n",
    "plt.figure(figsize=(30,15))\n",
    "_ = sns.boxplot(data = x)"
   ]
  },
  {
   "cell_type": "code",
   "execution_count": null,
   "id": "f2c3b05d",
   "metadata": {},
   "outputs": [],
   "source": [
    "plt.savefig(\"jobs_boxplot.pdf\")"
   ]
  },
  {
   "cell_type": "code",
   "execution_count": null,
   "id": "95b21134",
   "metadata": {
    "scrolled": true
   },
   "outputs": [],
   "source": [
    "# to draw histogram and look at the distribution of values of each feature\n",
    "jobs.hist(bins=50, figsize=(20,20))"
   ]
  },
  {
   "cell_type": "code",
   "execution_count": null,
   "id": "a3339530",
   "metadata": {},
   "outputs": [],
   "source": [
    "plt.savefig(\"jobs_histogram.pdf\")"
   ]
  },
  {
   "cell_type": "code",
   "execution_count": null,
   "id": "e2369e4e",
   "metadata": {},
   "outputs": [],
   "source": [
    "jobs['y'].value_counts(1)"
   ]
  },
  {
   "cell_type": "code",
   "execution_count": null,
   "id": "f777130b",
   "metadata": {
    "scrolled": true
   },
   "outputs": [],
   "source": [
    "sns.countplot(x = \"y\", data = jobs)"
   ]
  },
  {
   "cell_type": "code",
   "execution_count": null,
   "id": "6674ab75",
   "metadata": {
    "scrolled": true
   },
   "outputs": [],
   "source": [
    "plt.savefig(\"jobs_y.pdf\")"
   ]
  },
  {
   "cell_type": "code",
   "execution_count": null,
   "id": "2f42152b",
   "metadata": {},
   "outputs": [],
   "source": [
    "# to plot scatterplot across all the features\n",
    "sns.pairplot(x)"
   ]
  },
  {
   "cell_type": "code",
   "execution_count": null,
   "id": "ce95582e",
   "metadata": {},
   "outputs": [],
   "source": [
    "plt.savefig(\"jobs_scatterplot.pdf\")"
   ]
  },
  {
   "cell_type": "code",
   "execution_count": null,
   "id": "386b4766",
   "metadata": {},
   "outputs": [],
   "source": [
    "# to calculate the correlations between each pair of variables\n",
    "corr = x.corr()\n",
    "\n",
    "# to plot a heatmap of the correlations between pairs of features\n",
    "sns.set(rc = {'figure.figsize':(20,15)})\n",
    "sns.heatmap(corr, annot = True)"
   ]
  },
  {
   "cell_type": "code",
   "execution_count": null,
   "id": "4a24bf3f",
   "metadata": {},
   "outputs": [],
   "source": [
    "plt.savefig(\"jobs_heatmap.pdf\")"
   ]
  },
  {
   "cell_type": "markdown",
   "id": "5fb75af2",
   "metadata": {},
   "source": [
    "### Data Pre-Processing"
   ]
  },
  {
   "cell_type": "code",
   "execution_count": null,
   "id": "0c69b8e8",
   "metadata": {},
   "outputs": [],
   "source": [
    "# to split the data into train and test datasets\n",
    "x_train, x_test, t_train, t_test, y_train, y_test= train_test_split(x, T, Y, test_size=0.2)\n",
    "\n",
    "scaler_x = StandardScaler() # to standarise the dataset i.e. mean = 0 and s.d. = 1\n",
    "x_train = scaler_x.fit_transform(x_train)\n",
    "x_test = scaler_x.transform(x_test)"
   ]
  }
 ],
 "metadata": {
  "kernelspec": {
   "display_name": "Python 3 (ipykernel)",
   "language": "python",
   "name": "python3"
  },
  "language_info": {
   "codemirror_mode": {
    "name": "ipython",
    "version": 3
   },
   "file_extension": ".py",
   "mimetype": "text/x-python",
   "name": "python",
   "nbconvert_exporter": "python",
   "pygments_lexer": "ipython3",
   "version": "3.9.7"
  }
 },
 "nbformat": 4,
 "nbformat_minor": 5
}
