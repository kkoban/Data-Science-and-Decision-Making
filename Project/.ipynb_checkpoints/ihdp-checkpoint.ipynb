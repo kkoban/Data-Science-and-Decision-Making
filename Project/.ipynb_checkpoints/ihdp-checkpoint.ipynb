{
 "cells": [
  {
   "cell_type": "markdown",
   "id": "262f004e",
   "metadata": {},
   "source": [
    "## IHDP"
   ]
  },
  {
   "cell_type": "code",
   "execution_count": 1,
   "id": "62ff771f",
   "metadata": {},
   "outputs": [
    {
     "name": "stdout",
     "output_type": "stream",
     "text": [
      "Requirement already satisfied: econml in c:\\users\\kakoli banik\\anaconda3\\lib\\site-packages (0.13.0)\n",
      "Requirement already satisfied: pandas in c:\\users\\kakoli banik\\anaconda3\\lib\\site-packages (from econml) (1.3.4)\n",
      "Requirement already satisfied: lightgbm in c:\\users\\kakoli banik\\anaconda3\\lib\\site-packages (from econml) (3.3.2)\n",
      "Requirement already satisfied: shap<0.40.0,>=0.38.1 in c:\\users\\kakoli banik\\anaconda3\\lib\\site-packages (from econml) (0.39.0)\n",
      "Requirement already satisfied: sparse in c:\\users\\kakoli banik\\anaconda3\\lib\\site-packages (from econml) (0.13.0)\n",
      "Requirement already satisfied: joblib>=0.13.0 in c:\\users\\kakoli banik\\anaconda3\\lib\\site-packages (from econml) (1.1.0)\n",
      "Requirement already satisfied: scikit-learn>0.22.0 in c:\\users\\kakoli banik\\anaconda3\\lib\\site-packages (from econml) (1.0.2)\n",
      "Requirement already satisfied: statsmodels>=0.10 in c:\\users\\kakoli banik\\anaconda3\\lib\\site-packages (from econml) (0.12.2)\n",
      "Requirement already satisfied: numpy in c:\\users\\kakoli banik\\anaconda3\\lib\\site-packages (from econml) (1.20.3)\n",
      "Requirement already satisfied: dowhy<0.7 in c:\\users\\kakoli banik\\anaconda3\\lib\\site-packages (from econml) (0.6)\n",
      "Requirement already satisfied: scipy>1.4.0 in c:\\users\\kakoli banik\\anaconda3\\lib\\site-packages (from econml) (1.7.1)\n",
      "Requirement already satisfied: networkx>=2.0 in c:\\users\\kakoli banik\\anaconda3\\lib\\site-packages (from dowhy<0.7->econml) (2.6.3)\n",
      "Requirement already satisfied: pydot>=1.4 in c:\\users\\kakoli banik\\anaconda3\\lib\\site-packages (from dowhy<0.7->econml) (1.4.2)\n",
      "Requirement already satisfied: sympy>=1.4 in c:\\users\\kakoli banik\\anaconda3\\lib\\site-packages (from dowhy<0.7->econml) (1.9)\n",
      "Requirement already satisfied: pytz>=2017.3 in c:\\users\\kakoli banik\\anaconda3\\lib\\site-packages (from pandas->econml) (2021.3)\n",
      "Requirement already satisfied: python-dateutil>=2.7.3 in c:\\users\\kakoli banik\\anaconda3\\lib\\site-packages (from pandas->econml) (2.8.2)\n",
      "Requirement already satisfied: pyparsing>=2.1.4 in c:\\users\\kakoli banik\\anaconda3\\lib\\site-packages (from pydot>=1.4->dowhy<0.7->econml) (3.0.4)\n",
      "Requirement already satisfied: six>=1.5 in c:\\users\\kakoli banik\\anaconda3\\lib\\site-packages (from python-dateutil>=2.7.3->pandas->econml) (1.16.0)\n",
      "Requirement already satisfied: threadpoolctl>=2.0.0 in c:\\users\\kakoli banik\\anaconda3\\lib\\site-packages (from scikit-learn>0.22.0->econml) (2.2.0)\n",
      "Requirement already satisfied: tqdm>4.25.0 in c:\\users\\kakoli banik\\anaconda3\\lib\\site-packages (from shap<0.40.0,>=0.38.1->econml) (4.62.3)\n",
      "Requirement already satisfied: cloudpickle in c:\\users\\kakoli banik\\anaconda3\\lib\\site-packages (from shap<0.40.0,>=0.38.1->econml) (2.0.0)\n",
      "Requirement already satisfied: slicer==0.0.7 in c:\\users\\kakoli banik\\anaconda3\\lib\\site-packages (from shap<0.40.0,>=0.38.1->econml) (0.0.7)\n",
      "Requirement already satisfied: numba in c:\\users\\kakoli banik\\anaconda3\\lib\\site-packages (from shap<0.40.0,>=0.38.1->econml) (0.54.1)\n",
      "Requirement already satisfied: patsy>=0.5 in c:\\users\\kakoli banik\\anaconda3\\lib\\site-packages (from statsmodels>=0.10->econml) (0.5.2)\n",
      "Requirement already satisfied: mpmath>=0.19 in c:\\users\\kakoli banik\\anaconda3\\lib\\site-packages (from sympy>=1.4->dowhy<0.7->econml) (1.2.1)\n",
      "Requirement already satisfied: colorama in c:\\users\\kakoli banik\\anaconda3\\lib\\site-packages (from tqdm>4.25.0->shap<0.40.0,>=0.38.1->econml) (0.4.4)\n",
      "Requirement already satisfied: wheel in c:\\users\\kakoli banik\\anaconda3\\lib\\site-packages (from lightgbm->econml) (0.37.0)\n",
      "Requirement already satisfied: setuptools in c:\\users\\kakoli banik\\anaconda3\\lib\\site-packages (from numba->shap<0.40.0,>=0.38.1->econml) (58.0.4)\n",
      "Requirement already satisfied: llvmlite<0.38,>=0.37.0rc1 in c:\\users\\kakoli banik\\anaconda3\\lib\\site-packages (from numba->shap<0.40.0,>=0.38.1->econml) (0.37.0)\n"
     ]
    }
   ],
   "source": [
    "!pip install econml"
   ]
  },
  {
   "cell_type": "code",
   "execution_count": 2,
   "id": "651dba8f",
   "metadata": {},
   "outputs": [],
   "source": [
    "from sklearn.model_selection import train_test_split # to split the data into train and test datasets \n",
    "from sklearn.preprocessing import StandardScaler # use of StandardScaler to standarise the dataset\n",
    "import numpy as np # library of mathematical operations\n",
    "import pandas as pd  # for data anlysis and manipulation\n",
    "import matplotlib.pyplot as plt # to display charts\n",
    "import seaborn as sns # data visualisation library"
   ]
  },
  {
   "cell_type": "markdown",
   "id": "70e2ebce",
   "metadata": {},
   "source": [
    "### Loading the dataset"
   ]
  },
  {
   "cell_type": "code",
   "execution_count": 3,
   "id": "15363619",
   "metadata": {
    "scrolled": true
   },
   "outputs": [
    {
     "data": {
      "text/html": [
       "<div>\n",
       "<style scoped>\n",
       "    .dataframe tbody tr th:only-of-type {\n",
       "        vertical-align: middle;\n",
       "    }\n",
       "\n",
       "    .dataframe tbody tr th {\n",
       "        vertical-align: top;\n",
       "    }\n",
       "\n",
       "    .dataframe thead th {\n",
       "        text-align: right;\n",
       "    }\n",
       "</style>\n",
       "<table border=\"1\" class=\"dataframe\">\n",
       "  <thead>\n",
       "    <tr style=\"text-align: right;\">\n",
       "      <th></th>\n",
       "      <th>x1</th>\n",
       "      <th>x2</th>\n",
       "      <th>x3</th>\n",
       "      <th>x4</th>\n",
       "      <th>x5</th>\n",
       "      <th>x6</th>\n",
       "      <th>x7</th>\n",
       "      <th>x8</th>\n",
       "      <th>x9</th>\n",
       "      <th>x10</th>\n",
       "      <th>...</th>\n",
       "      <th>x20</th>\n",
       "      <th>x21</th>\n",
       "      <th>x22</th>\n",
       "      <th>x23</th>\n",
       "      <th>x24</th>\n",
       "      <th>x25</th>\n",
       "      <th>t</th>\n",
       "      <th>yf</th>\n",
       "      <th>ycf</th>\n",
       "      <th>ite</th>\n",
       "    </tr>\n",
       "  </thead>\n",
       "  <tbody>\n",
       "    <tr>\n",
       "      <th>0</th>\n",
       "      <td>1.397395</td>\n",
       "      <td>0.996346</td>\n",
       "      <td>-1.105624</td>\n",
       "      <td>-0.879606</td>\n",
       "      <td>0.308569</td>\n",
       "      <td>-1.023402</td>\n",
       "      <td>1.0</td>\n",
       "      <td>0.0</td>\n",
       "      <td>0.0</td>\n",
       "      <td>0.0</td>\n",
       "      <td>...</td>\n",
       "      <td>0.0</td>\n",
       "      <td>0.0</td>\n",
       "      <td>0.0</td>\n",
       "      <td>0.0</td>\n",
       "      <td>0.0</td>\n",
       "      <td>1.0</td>\n",
       "      <td>1.0</td>\n",
       "      <td>4.771232</td>\n",
       "      <td>-0.298509</td>\n",
       "      <td>4.657928</td>\n",
       "    </tr>\n",
       "    <tr>\n",
       "      <th>1</th>\n",
       "      <td>0.269033</td>\n",
       "      <td>0.196818</td>\n",
       "      <td>0.383828</td>\n",
       "      <td>0.161703</td>\n",
       "      <td>-0.629189</td>\n",
       "      <td>1.460832</td>\n",
       "      <td>1.0</td>\n",
       "      <td>0.0</td>\n",
       "      <td>1.0</td>\n",
       "      <td>0.0</td>\n",
       "      <td>...</td>\n",
       "      <td>0.0</td>\n",
       "      <td>0.0</td>\n",
       "      <td>0.0</td>\n",
       "      <td>0.0</td>\n",
       "      <td>0.0</td>\n",
       "      <td>0.0</td>\n",
       "      <td>0.0</td>\n",
       "      <td>2.956273</td>\n",
       "      <td>5.783770</td>\n",
       "      <td>3.428604</td>\n",
       "    </tr>\n",
       "    <tr>\n",
       "      <th>2</th>\n",
       "      <td>1.051537</td>\n",
       "      <td>1.795874</td>\n",
       "      <td>-1.105624</td>\n",
       "      <td>0.161703</td>\n",
       "      <td>-0.629189</td>\n",
       "      <td>0.963985</td>\n",
       "      <td>1.0</td>\n",
       "      <td>0.0</td>\n",
       "      <td>1.0</td>\n",
       "      <td>1.0</td>\n",
       "      <td>...</td>\n",
       "      <td>0.0</td>\n",
       "      <td>0.0</td>\n",
       "      <td>0.0</td>\n",
       "      <td>0.0</td>\n",
       "      <td>0.0</td>\n",
       "      <td>1.0</td>\n",
       "      <td>0.0</td>\n",
       "      <td>4.164164</td>\n",
       "      <td>7.055789</td>\n",
       "      <td>3.658195</td>\n",
       "    </tr>\n",
       "    <tr>\n",
       "      <th>3</th>\n",
       "      <td>0.662446</td>\n",
       "      <td>0.196818</td>\n",
       "      <td>-0.733261</td>\n",
       "      <td>-0.879606</td>\n",
       "      <td>0.371086</td>\n",
       "      <td>-0.692171</td>\n",
       "      <td>1.0</td>\n",
       "      <td>0.0</td>\n",
       "      <td>0.0</td>\n",
       "      <td>0.0</td>\n",
       "      <td>...</td>\n",
       "      <td>1.0</td>\n",
       "      <td>0.0</td>\n",
       "      <td>0.0</td>\n",
       "      <td>0.0</td>\n",
       "      <td>0.0</td>\n",
       "      <td>0.0</td>\n",
       "      <td>1.0</td>\n",
       "      <td>6.172307</td>\n",
       "      <td>1.379697</td>\n",
       "      <td>4.585505</td>\n",
       "    </tr>\n",
       "    <tr>\n",
       "      <th>4</th>\n",
       "      <td>0.856992</td>\n",
       "      <td>1.795874</td>\n",
       "      <td>0.011465</td>\n",
       "      <td>-0.879606</td>\n",
       "      <td>0.558638</td>\n",
       "      <td>0.301522</td>\n",
       "      <td>0.0</td>\n",
       "      <td>1.0</td>\n",
       "      <td>1.0</td>\n",
       "      <td>0.0</td>\n",
       "      <td>...</td>\n",
       "      <td>0.0</td>\n",
       "      <td>0.0</td>\n",
       "      <td>0.0</td>\n",
       "      <td>0.0</td>\n",
       "      <td>0.0</td>\n",
       "      <td>0.0</td>\n",
       "      <td>1.0</td>\n",
       "      <td>7.834469</td>\n",
       "      <td>2.747986</td>\n",
       "      <td>4.265591</td>\n",
       "    </tr>\n",
       "    <tr>\n",
       "      <th>...</th>\n",
       "      <td>...</td>\n",
       "      <td>...</td>\n",
       "      <td>...</td>\n",
       "      <td>...</td>\n",
       "      <td>...</td>\n",
       "      <td>...</td>\n",
       "      <td>...</td>\n",
       "      <td>...</td>\n",
       "      <td>...</td>\n",
       "      <td>...</td>\n",
       "      <td>...</td>\n",
       "      <td>...</td>\n",
       "      <td>...</td>\n",
       "      <td>...</td>\n",
       "      <td>...</td>\n",
       "      <td>...</td>\n",
       "      <td>...</td>\n",
       "      <td>...</td>\n",
       "      <td>...</td>\n",
       "      <td>...</td>\n",
       "      <td>...</td>\n",
       "    </tr>\n",
       "    <tr>\n",
       "      <th>742</th>\n",
       "      <td>-1.853672</td>\n",
       "      <td>-2.201766</td>\n",
       "      <td>1.500917</td>\n",
       "      <td>0.161703</td>\n",
       "      <td>-0.129052</td>\n",
       "      <td>-1.023402</td>\n",
       "      <td>1.0</td>\n",
       "      <td>0.0</td>\n",
       "      <td>0.0</td>\n",
       "      <td>1.0</td>\n",
       "      <td>...</td>\n",
       "      <td>0.0</td>\n",
       "      <td>0.0</td>\n",
       "      <td>0.0</td>\n",
       "      <td>1.0</td>\n",
       "      <td>0.0</td>\n",
       "      <td>0.0</td>\n",
       "      <td>0.0</td>\n",
       "      <td>2.244050</td>\n",
       "      <td>5.269701</td>\n",
       "      <td>4.598246</td>\n",
       "    </tr>\n",
       "    <tr>\n",
       "      <th>743</th>\n",
       "      <td>-1.066845</td>\n",
       "      <td>-1.402238</td>\n",
       "      <td>1.128554</td>\n",
       "      <td>2.244320</td>\n",
       "      <td>0.371086</td>\n",
       "      <td>2.288910</td>\n",
       "      <td>0.0</td>\n",
       "      <td>0.0</td>\n",
       "      <td>1.0</td>\n",
       "      <td>0.0</td>\n",
       "      <td>...</td>\n",
       "      <td>1.0</td>\n",
       "      <td>0.0</td>\n",
       "      <td>0.0</td>\n",
       "      <td>0.0</td>\n",
       "      <td>0.0</td>\n",
       "      <td>0.0</td>\n",
       "      <td>0.0</td>\n",
       "      <td>6.253175</td>\n",
       "      <td>8.393338</td>\n",
       "      <td>0.940855</td>\n",
       "    </tr>\n",
       "    <tr>\n",
       "      <th>744</th>\n",
       "      <td>-1.045229</td>\n",
       "      <td>-1.337276</td>\n",
       "      <td>1.128554</td>\n",
       "      <td>-0.879606</td>\n",
       "      <td>0.683672</td>\n",
       "      <td>0.301522</td>\n",
       "      <td>1.0</td>\n",
       "      <td>0.0</td>\n",
       "      <td>1.0</td>\n",
       "      <td>0.0</td>\n",
       "      <td>...</td>\n",
       "      <td>0.0</td>\n",
       "      <td>0.0</td>\n",
       "      <td>0.0</td>\n",
       "      <td>0.0</td>\n",
       "      <td>0.0</td>\n",
       "      <td>0.0</td>\n",
       "      <td>0.0</td>\n",
       "      <td>2.908235</td>\n",
       "      <td>6.897207</td>\n",
       "      <td>4.373736</td>\n",
       "    </tr>\n",
       "    <tr>\n",
       "      <th>745</th>\n",
       "      <td>-0.115735</td>\n",
       "      <td>-0.602710</td>\n",
       "      <td>-1.105624</td>\n",
       "      <td>2.244320</td>\n",
       "      <td>0.558638</td>\n",
       "      <td>2.785756</td>\n",
       "      <td>1.0</td>\n",
       "      <td>0.0</td>\n",
       "      <td>1.0</td>\n",
       "      <td>0.0</td>\n",
       "      <td>...</td>\n",
       "      <td>0.0</td>\n",
       "      <td>0.0</td>\n",
       "      <td>0.0</td>\n",
       "      <td>1.0</td>\n",
       "      <td>0.0</td>\n",
       "      <td>0.0</td>\n",
       "      <td>0.0</td>\n",
       "      <td>8.324520</td>\n",
       "      <td>9.208251</td>\n",
       "      <td>0.352653</td>\n",
       "    </tr>\n",
       "    <tr>\n",
       "      <th>746</th>\n",
       "      <td>1.419011</td>\n",
       "      <td>1.396110</td>\n",
       "      <td>-0.733261</td>\n",
       "      <td>2.244320</td>\n",
       "      <td>-0.441638</td>\n",
       "      <td>-0.195324</td>\n",
       "      <td>0.0</td>\n",
       "      <td>1.0</td>\n",
       "      <td>1.0</td>\n",
       "      <td>0.0</td>\n",
       "      <td>...</td>\n",
       "      <td>0.0</td>\n",
       "      <td>0.0</td>\n",
       "      <td>0.0</td>\n",
       "      <td>0.0</td>\n",
       "      <td>0.0</td>\n",
       "      <td>1.0</td>\n",
       "      <td>0.0</td>\n",
       "      <td>1.915644</td>\n",
       "      <td>6.298299</td>\n",
       "      <td>4.115977</td>\n",
       "    </tr>\n",
       "  </tbody>\n",
       "</table>\n",
       "<p>747 rows × 29 columns</p>\n",
       "</div>"
      ],
      "text/plain": [
       "           x1        x2        x3        x4        x5        x6   x7   x8  \\\n",
       "0    1.397395  0.996346 -1.105624 -0.879606  0.308569 -1.023402  1.0  0.0   \n",
       "1    0.269033  0.196818  0.383828  0.161703 -0.629189  1.460832  1.0  0.0   \n",
       "2    1.051537  1.795874 -1.105624  0.161703 -0.629189  0.963985  1.0  0.0   \n",
       "3    0.662446  0.196818 -0.733261 -0.879606  0.371086 -0.692171  1.0  0.0   \n",
       "4    0.856992  1.795874  0.011465 -0.879606  0.558638  0.301522  0.0  1.0   \n",
       "..        ...       ...       ...       ...       ...       ...  ...  ...   \n",
       "742 -1.853672 -2.201766  1.500917  0.161703 -0.129052 -1.023402  1.0  0.0   \n",
       "743 -1.066845 -1.402238  1.128554  2.244320  0.371086  2.288910  0.0  0.0   \n",
       "744 -1.045229 -1.337276  1.128554 -0.879606  0.683672  0.301522  1.0  0.0   \n",
       "745 -0.115735 -0.602710 -1.105624  2.244320  0.558638  2.785756  1.0  0.0   \n",
       "746  1.419011  1.396110 -0.733261  2.244320 -0.441638 -0.195324  0.0  1.0   \n",
       "\n",
       "      x9  x10  ...  x20  x21  x22  x23  x24  x25    t        yf       ycf  \\\n",
       "0    0.0  0.0  ...  0.0  0.0  0.0  0.0  0.0  1.0  1.0  4.771232 -0.298509   \n",
       "1    1.0  0.0  ...  0.0  0.0  0.0  0.0  0.0  0.0  0.0  2.956273  5.783770   \n",
       "2    1.0  1.0  ...  0.0  0.0  0.0  0.0  0.0  1.0  0.0  4.164164  7.055789   \n",
       "3    0.0  0.0  ...  1.0  0.0  0.0  0.0  0.0  0.0  1.0  6.172307  1.379697   \n",
       "4    1.0  0.0  ...  0.0  0.0  0.0  0.0  0.0  0.0  1.0  7.834469  2.747986   \n",
       "..   ...  ...  ...  ...  ...  ...  ...  ...  ...  ...       ...       ...   \n",
       "742  0.0  1.0  ...  0.0  0.0  0.0  1.0  0.0  0.0  0.0  2.244050  5.269701   \n",
       "743  1.0  0.0  ...  1.0  0.0  0.0  0.0  0.0  0.0  0.0  6.253175  8.393338   \n",
       "744  1.0  0.0  ...  0.0  0.0  0.0  0.0  0.0  0.0  0.0  2.908235  6.897207   \n",
       "745  1.0  0.0  ...  0.0  0.0  0.0  1.0  0.0  0.0  0.0  8.324520  9.208251   \n",
       "746  1.0  0.0  ...  0.0  0.0  0.0  0.0  0.0  1.0  0.0  1.915644  6.298299   \n",
       "\n",
       "          ite  \n",
       "0    4.657928  \n",
       "1    3.428604  \n",
       "2    3.658195  \n",
       "3    4.585505  \n",
       "4    4.265591  \n",
       "..        ...  \n",
       "742  4.598246  \n",
       "743  0.940855  \n",
       "744  4.373736  \n",
       "745  0.352653  \n",
       "746  4.115977  \n",
       "\n",
       "[747 rows x 29 columns]"
      ]
     },
     "execution_count": 3,
     "metadata": {},
     "output_type": "execute_result"
    }
   ],
   "source": [
    "ihdp = pd.read_csv(\"https://raw.githubusercontent.com/dmachlanski/CE888_2022/main/project/data/ihdp.csv\", delimiter=\",\")\n",
    "ihdp"
   ]
  },
  {
   "cell_type": "markdown",
   "id": "3ca53228",
   "metadata": {},
   "source": [
    "### Exploring the dataset"
   ]
  },
  {
   "cell_type": "code",
   "execution_count": 4,
   "id": "64c9d4da",
   "metadata": {
    "scrolled": false
   },
   "outputs": [
    {
     "name": "stdout",
     "output_type": "stream",
     "text": [
      "<class 'pandas.core.frame.DataFrame'>\n",
      "RangeIndex: 747 entries, 0 to 746\n",
      "Data columns (total 29 columns):\n",
      " #   Column  Non-Null Count  Dtype  \n",
      "---  ------  --------------  -----  \n",
      " 0   x1      747 non-null    float64\n",
      " 1   x2      747 non-null    float64\n",
      " 2   x3      747 non-null    float64\n",
      " 3   x4      747 non-null    float64\n",
      " 4   x5      747 non-null    float64\n",
      " 5   x6      747 non-null    float64\n",
      " 6   x7      747 non-null    float64\n",
      " 7   x8      747 non-null    float64\n",
      " 8   x9      747 non-null    float64\n",
      " 9   x10     747 non-null    float64\n",
      " 10  x11     747 non-null    float64\n",
      " 11  x12     747 non-null    float64\n",
      " 12  x13     747 non-null    float64\n",
      " 13  x14     747 non-null    float64\n",
      " 14  x15     747 non-null    float64\n",
      " 15  x16     747 non-null    float64\n",
      " 16  x17     747 non-null    float64\n",
      " 17  x18     747 non-null    float64\n",
      " 18  x19     747 non-null    float64\n",
      " 19  x20     747 non-null    float64\n",
      " 20  x21     747 non-null    float64\n",
      " 21  x22     747 non-null    float64\n",
      " 22  x23     747 non-null    float64\n",
      " 23  x24     747 non-null    float64\n",
      " 24  x25     747 non-null    float64\n",
      " 25  t       747 non-null    float64\n",
      " 26  yf      747 non-null    float64\n",
      " 27  ycf     747 non-null    float64\n",
      " 28  ite     747 non-null    float64\n",
      "dtypes: float64(29)\n",
      "memory usage: 169.4 KB\n"
     ]
    }
   ],
   "source": [
    "ihdp.info()"
   ]
  },
  {
   "cell_type": "code",
   "execution_count": 5,
   "id": "a5e2b2fa",
   "metadata": {},
   "outputs": [
    {
     "name": "stdout",
     "output_type": "stream",
     "text": [
      "There are 747 rows and 29 columns\n"
     ]
    }
   ],
   "source": [
    "nrow, ncol = ihdp.shape\n",
    "print(f'There are {nrow} rows and {ncol} columns')"
   ]
  },
  {
   "cell_type": "code",
   "execution_count": 6,
   "id": "eab1ddd4",
   "metadata": {},
   "outputs": [],
   "source": [
    "X = ihdp[[\"x1\", 'x2', 'x3', 'x4', 'x5', 'x6', 'x7', 'x8', 'x9', 'x10',\n",
    "         'x11', 'x12', 'x13', 'x14', 'x15', 'x16', 'x17', 'x18', \n",
    "         'x19', 'x20', 'x21', 'x22', 'x23', 'x24', 'x25' ]]"
   ]
  },
  {
   "cell_type": "code",
   "execution_count": 7,
   "id": "a02920c4",
   "metadata": {},
   "outputs": [],
   "source": [
    "# reshaping the single dimension vectors into 2D vectors as some methods prefer this representaion of data\n",
    "T = ihdp['t'].values.reshape(-1, 1)\n",
    "Y = ihdp['yf'].values.reshape(-1, 1)\n",
    "ite = ihdp['ite']"
   ]
  },
  {
   "cell_type": "code",
   "execution_count": 8,
   "id": "591f5afd",
   "metadata": {
    "scrolled": true
   },
   "outputs": [
    {
     "data": {
      "text/plain": [
       "<AxesSubplot:>"
      ]
     },
     "execution_count": 8,
     "metadata": {},
     "output_type": "execute_result"
    },
    {
     "data": {
      "image/png": "[encoded data removed]",
      "text/plain": [
       "<Figure size 2160x1080 with 1 Axes>"
      ]
     },
     "metadata": {
      "needs_background": "light"
     },
     "output_type": "display_data"
    }
   ],
   "source": [
    "# to plot a boxplot of each feature in the dataset and check if the features vary in scale\n",
    "plt.figure(figsize=(30,15))\n",
    "sns.boxplot(data = X)"
   ]
  },
  {
   "cell_type": "code",
   "execution_count": 9,
   "id": "b6ae0bf1",
   "metadata": {},
   "outputs": [
    {
     "data": {
      "text/plain": [
       "<Figure size 432x288 with 0 Axes>"
      ]
     },
     "metadata": {},
     "output_type": "display_data"
    }
   ],
   "source": [
    "plt.savefig(\"ihdp_boxplot.pdf\")"
   ]
  },
  {
   "cell_type": "code",
   "execution_count": 10,
   "id": "0b4b84a0",
   "metadata": {
    "scrolled": false
   },
   "outputs": [
    {
     "data": {
      "text/plain": [
       "array([[<AxesSubplot:title={'center':'x1'}>,\n",
       "        <AxesSubplot:title={'center':'x2'}>,\n",
       "        <AxesSubplot:title={'center':'x3'}>,\n",
       "        <AxesSubplot:title={'center':'x4'}>,\n",
       "        <AxesSubplot:title={'center':'x5'}>],\n",
       "       [<AxesSubplot:title={'center':'x6'}>,\n",
       "        <AxesSubplot:title={'center':'x7'}>,\n",
       "        <AxesSubplot:title={'center':'x8'}>,\n",
       "        <AxesSubplot:title={'center':'x9'}>,\n",
       "        <AxesSubplot:title={'center':'x10'}>],\n",
       "       [<AxesSubplot:title={'center':'x11'}>,\n",
       "        <AxesSubplot:title={'center':'x12'}>,\n",
       "        <AxesSubplot:title={'center':'x13'}>,\n",
       "        <AxesSubplot:title={'center':'x14'}>,\n",
       "        <AxesSubplot:title={'center':'x15'}>],\n",
       "       [<AxesSubplot:title={'center':'x16'}>,\n",
       "        <AxesSubplot:title={'center':'x17'}>,\n",
       "        <AxesSubplot:title={'center':'x18'}>,\n",
       "        <AxesSubplot:title={'center':'x19'}>,\n",
       "        <AxesSubplot:title={'center':'x20'}>],\n",
       "       [<AxesSubplot:title={'center':'x21'}>,\n",
       "        <AxesSubplot:title={'center':'x22'}>,\n",
       "        <AxesSubplot:title={'center':'x23'}>,\n",
       "        <AxesSubplot:title={'center':'x24'}>,\n",
       "        <AxesSubplot:title={'center':'x25'}>],\n",
       "       [<AxesSubplot:title={'center':'t'}>,\n",
       "        <AxesSubplot:title={'center':'yf'}>,\n",
       "        <AxesSubplot:title={'center':'ycf'}>,\n",
       "        <AxesSubplot:title={'center':'ite'}>, <AxesSubplot:>]],\n",
       "      dtype=object)"
      ]
     },
     "execution_count": 10,
     "metadata": {},
     "output_type": "execute_result"
    },
    {
     "data": {
      "image/png": "[encoded data removed]",
      "text/plain": [
       "<Figure size 1440x1440 with 30 Axes>"
      ]
     },
     "metadata": {
      "needs_background": "light"
     },
     "output_type": "display_data"
    }
   ],
   "source": [
    "# to draw histogram and look at the distribution of values of each feature\n",
    "ihdp.hist(bins=50, figsize=(20,20))"
   ]
  },
  {
   "cell_type": "code",
   "execution_count": 11,
   "id": "e7e397b9",
   "metadata": {},
   "outputs": [],
   "source": [
    "#looking at ite histogram heterogeneous effect groups"
   ]
  },
  {
   "cell_type": "code",
   "execution_count": 12,
   "id": "7e30d8a4",
   "metadata": {},
   "outputs": [
    {
     "data": {
      "text/plain": [
       "<Figure size 432x288 with 0 Axes>"
      ]
     },
     "metadata": {},
     "output_type": "display_data"
    }
   ],
   "source": [
    "plt.savefig(\"ihdp_histogram.pdf\")"
   ]
  },
  {
   "cell_type": "code",
   "execution_count": null,
   "id": "a4ff3a88",
   "metadata": {},
   "outputs": [],
   "source": [
    "# to plot scatterplot across all the features\n",
    "sns.pairplot(X)"
   ]
  },
  {
   "cell_type": "code",
   "execution_count": null,
   "id": "8e345bef",
   "metadata": {},
   "outputs": [],
   "source": [
    "plt.savefig(\"ihdp_scatterplot.pdf\")"
   ]
  },
  {
   "cell_type": "code",
   "execution_count": null,
   "id": "c93b0d52",
   "metadata": {
    "scrolled": true
   },
   "outputs": [],
   "source": [
    "# to calculate the correlations between each pair of variables\n",
    "cor = X.corr()\n",
    "\n",
    "# to plot a heatmap of the correlations between pairs of features\n",
    "sns.set(rc = {'figure.figsize':(15,8)})\n",
    "sns.heatmap(cor, annot = True)"
   ]
  },
  {
   "cell_type": "code",
   "execution_count": null,
   "id": "780f7219",
   "metadata": {},
   "outputs": [],
   "source": [
    "plt.savefig(\"ihdp_heatmap.pdf\")"
   ]
  },
  {
   "cell_type": "markdown",
   "id": "a45b358f",
   "metadata": {},
   "source": [
    "### Data pre-processing"
   ]
  },
  {
   "cell_type": "code",
   "execution_count": null,
   "id": "09839423",
   "metadata": {},
   "outputs": [],
   "source": [
    "# to split the data into train and test datasets\n",
    "x_train, x_test, t_train, t_test, y_train, y_test, ite_train, ite_test = train_test_split(X, T, Y, ite, test_size=0.2)\n",
    "\n",
    "scaler_x = StandardScaler() # to standarise the dataset i.e. mean = 0 and s.d. = 1\n",
    "x_train = scaler_x.fit_transform(x_train)\n",
    "x_test = scaler_x.transform(x_test)"
   ]
  },
  {
   "cell_type": "markdown",
   "id": "1f24312a",
   "metadata": {},
   "source": [
    "## Machine learning algorithm for noisy dataset-----Random Forest regressor for IHDP"
   ]
  }
 ],
 "metadata": {
  "kernelspec": {
   "display_name": "Python 3 (ipykernel)",
   "language": "python",
   "name": "python3"
  },
  "language_info": {
   "codemirror_mode": {
    "name": "ipython",
    "version": 3
   },
   "file_extension": ".py",
   "mimetype": "text/x-python",
   "name": "python",
   "nbconvert_exporter": "python",
   "pygments_lexer": "ipython3",
   "version": "3.9.7"
  }
 },
 "nbformat": 4,
 "nbformat_minor": 5
}
